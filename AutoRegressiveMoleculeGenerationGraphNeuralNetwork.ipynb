{
  "cells": [
    {
      "cell_type": "code",
      "execution_count": null,
      "metadata": {
        "colab": {
          "base_uri": "https://localhost:8080/"
        },
        "id": "hzdlZz8gBck0",
        "outputId": "44866f62-399d-4bd4-91ae-df7c35616a16"
      },
      "outputs": [
        {
          "output_type": "stream",
          "name": "stdout",
          "text": [
            "Requirement already satisfied: rdkit in /usr/local/lib/python3.10/dist-packages (2024.3.5)\n",
            "Requirement already satisfied: numpy in /usr/local/lib/python3.10/dist-packages (from rdkit) (1.26.4)\n",
            "Requirement already satisfied: Pillow in /usr/local/lib/python3.10/dist-packages (from rdkit) (10.4.0)\n"
          ]
        }
      ],
      "source": [
        "import networkx as nx\n",
        "import numpy as np\n",
        "import random\n",
        "import pandas as pd\n",
        "!pip install rdkit\n",
        "from rdkit import Chem\n",
        "from sklearn.model_selection import train_test_split\n",
        "import tensorflow as tf\n",
        "from tensorflow.keras.layers import Layer, Dense , Dropout, BatchNormalization\n",
        "from rdkit.Chem import Draw\n",
        "from rdkit.Chem import rdmolops\n",
        "import matplotlib.pyplot as plt"
      ]
    },
    {
      "cell_type": "code",
      "execution_count": null,
      "metadata": {
        "id": "PyI8fwo7Bchs"
      },
      "outputs": [],
      "source": [
        "#df=pd.read_csv(\"/content/HIV.csv\")\n",
        "df=pd.read_csv(\"/content/SMILES_Big_Data_Set.csv\")"
      ]
    },
    {
      "cell_type": "code",
      "execution_count": null,
      "metadata": {
        "id": "ChRwCqPSBcdi"
      },
      "outputs": [],
      "source": [
        "#this function finds the number of atoms in the each molcule\n",
        "def numofatoms (x):\n",
        "        return len(Chem.MolFromSmiles(x).GetAtoms())"
      ]
    },
    {
      "cell_type": "code",
      "execution_count": null,
      "metadata": {
        "colab": {
          "base_uri": "https://localhost:8080/",
          "height": 444
        },
        "id": "wIqUNHWPay3u",
        "outputId": "dc94d906-0bc7-44d0-b228-2b93f10cf89d"
      },
      "outputs": [
        {
          "output_type": "execute_result",
          "data": {
            "text/plain": [
              "                                                  SMILES  pIC50  \\\n",
              "0             O=S(=O)(Nc1cccc(-c2cnc3ccccc3n2)c1)c1cccs1   4.26   \n",
              "1      O=c1cc(-c2nc(-c3ccc(-c4cn(CCP(=O)(O)O)nn4)cc3)...   4.34   \n",
              "2                 NC(=O)c1ccc2c(c1)nc(C1CCC(O)CC1)n2CCCO   4.53   \n",
              "3                    NCCCn1c(C2CCNCC2)nc2cc(C(N)=O)ccc21   4.56   \n",
              "4                      CNC(=S)Nc1cccc(-c2cnc3ccccc3n2)c1   4.59   \n",
              "...                                                  ...    ...   \n",
              "16082               S=C(NN=C(c1ccccn1)c1ccccn1)Nc1ccccc1   0.00   \n",
              "16083                            S=C=NCCCCCCCCCCc1ccccc1   0.00   \n",
              "16084                              S=C=NCCCCCCCCc1ccccc1   0.00   \n",
              "16085              S=c1[nH]nc(Cn2ccc3ccccc32)n1-c1ccccc1   0.00   \n",
              "16086                   N=[N+]=NC=Cc1ccc([N+](=O)[O-])o1   0.02   \n",
              "\n",
              "                                                    mol  num_atoms     logP  \n",
              "0      <rdkit.Chem.rdchem.Mol object at 0x7f59df45bc30>         25  4.15910  \n",
              "1      <rdkit.Chem.rdchem.Mol object at 0x7f59a320c9e0>         36  3.67430  \n",
              "2      <rdkit.Chem.rdchem.Mol object at 0x7f59a320cac0>         23  1.53610  \n",
              "3      <rdkit.Chem.rdchem.Mol object at 0x7f59a320cba0>         22  0.95100  \n",
              "4      <rdkit.Chem.rdchem.Mol object at 0x7f59a320c7b0>         21  3.21300  \n",
              "...                                                 ...        ...      ...  \n",
              "16082  <rdkit.Chem.rdchem.Mol object at 0x7f59a314ed50>         24  3.21560  \n",
              "16083  <rdkit.Chem.rdchem.Mol object at 0x7f59a314edc0>         19  5.45270  \n",
              "16084  <rdkit.Chem.rdchem.Mol object at 0x7f59a314ee30>         17  4.67250  \n",
              "16085  <rdkit.Chem.rdchem.Mol object at 0x7f59a314eea0>         22  3.93289  \n",
              "16086  <rdkit.Chem.rdchem.Mol object at 0x7f59a314ef10>         13  1.70887  \n",
              "\n",
              "[16087 rows x 5 columns]"
            ],
            "text/html": [
              "\n",
              "  <div id=\"df-379d4449-8c94-4dc7-a00a-444888e49dd8\" class=\"colab-df-container\">\n",
              "    <div>\n",
              "<style scoped>\n",
              "    .dataframe tbody tr th:only-of-type {\n",
              "        vertical-align: middle;\n",
              "    }\n",
              "\n",
              "    .dataframe tbody tr th {\n",
              "        vertical-align: top;\n",
              "    }\n",
              "\n",
              "    .dataframe thead th {\n",
              "        text-align: right;\n",
              "    }\n",
              "</style>\n",
              "<table border=\"1\" class=\"dataframe\">\n",
              "  <thead>\n",
              "    <tr style=\"text-align: right;\">\n",
              "      <th></th>\n",
              "      <th>SMILES</th>\n",
              "      <th>pIC50</th>\n",
              "      <th>mol</th>\n",
              "      <th>num_atoms</th>\n",
              "      <th>logP</th>\n",
              "    </tr>\n",
              "  </thead>\n",
              "  <tbody>\n",
              "    <tr>\n",
              "      <th>0</th>\n",
              "      <td>O=S(=O)(Nc1cccc(-c2cnc3ccccc3n2)c1)c1cccs1</td>\n",
              "      <td>4.26</td>\n",
              "      <td>&lt;rdkit.Chem.rdchem.Mol object at 0x7f59df45bc30&gt;</td>\n",
              "      <td>25</td>\n",
              "      <td>4.15910</td>\n",
              "    </tr>\n",
              "    <tr>\n",
              "      <th>1</th>\n",
              "      <td>O=c1cc(-c2nc(-c3ccc(-c4cn(CCP(=O)(O)O)nn4)cc3)...</td>\n",
              "      <td>4.34</td>\n",
              "      <td>&lt;rdkit.Chem.rdchem.Mol object at 0x7f59a320c9e0&gt;</td>\n",
              "      <td>36</td>\n",
              "      <td>3.67430</td>\n",
              "    </tr>\n",
              "    <tr>\n",
              "      <th>2</th>\n",
              "      <td>NC(=O)c1ccc2c(c1)nc(C1CCC(O)CC1)n2CCCO</td>\n",
              "      <td>4.53</td>\n",
              "      <td>&lt;rdkit.Chem.rdchem.Mol object at 0x7f59a320cac0&gt;</td>\n",
              "      <td>23</td>\n",
              "      <td>1.53610</td>\n",
              "    </tr>\n",
              "    <tr>\n",
              "      <th>3</th>\n",
              "      <td>NCCCn1c(C2CCNCC2)nc2cc(C(N)=O)ccc21</td>\n",
              "      <td>4.56</td>\n",
              "      <td>&lt;rdkit.Chem.rdchem.Mol object at 0x7f59a320cba0&gt;</td>\n",
              "      <td>22</td>\n",
              "      <td>0.95100</td>\n",
              "    </tr>\n",
              "    <tr>\n",
              "      <th>4</th>\n",
              "      <td>CNC(=S)Nc1cccc(-c2cnc3ccccc3n2)c1</td>\n",
              "      <td>4.59</td>\n",
              "      <td>&lt;rdkit.Chem.rdchem.Mol object at 0x7f59a320c7b0&gt;</td>\n",
              "      <td>21</td>\n",
              "      <td>3.21300</td>\n",
              "    </tr>\n",
              "    <tr>\n",
              "      <th>...</th>\n",
              "      <td>...</td>\n",
              "      <td>...</td>\n",
              "      <td>...</td>\n",
              "      <td>...</td>\n",
              "      <td>...</td>\n",
              "    </tr>\n",
              "    <tr>\n",
              "      <th>16082</th>\n",
              "      <td>S=C(NN=C(c1ccccn1)c1ccccn1)Nc1ccccc1</td>\n",
              "      <td>0.00</td>\n",
              "      <td>&lt;rdkit.Chem.rdchem.Mol object at 0x7f59a314ed50&gt;</td>\n",
              "      <td>24</td>\n",
              "      <td>3.21560</td>\n",
              "    </tr>\n",
              "    <tr>\n",
              "      <th>16083</th>\n",
              "      <td>S=C=NCCCCCCCCCCc1ccccc1</td>\n",
              "      <td>0.00</td>\n",
              "      <td>&lt;rdkit.Chem.rdchem.Mol object at 0x7f59a314edc0&gt;</td>\n",
              "      <td>19</td>\n",
              "      <td>5.45270</td>\n",
              "    </tr>\n",
              "    <tr>\n",
              "      <th>16084</th>\n",
              "      <td>S=C=NCCCCCCCCc1ccccc1</td>\n",
              "      <td>0.00</td>\n",
              "      <td>&lt;rdkit.Chem.rdchem.Mol object at 0x7f59a314ee30&gt;</td>\n",
              "      <td>17</td>\n",
              "      <td>4.67250</td>\n",
              "    </tr>\n",
              "    <tr>\n",
              "      <th>16085</th>\n",
              "      <td>S=c1[nH]nc(Cn2ccc3ccccc32)n1-c1ccccc1</td>\n",
              "      <td>0.00</td>\n",
              "      <td>&lt;rdkit.Chem.rdchem.Mol object at 0x7f59a314eea0&gt;</td>\n",
              "      <td>22</td>\n",
              "      <td>3.93289</td>\n",
              "    </tr>\n",
              "    <tr>\n",
              "      <th>16086</th>\n",
              "      <td>N=[N+]=NC=Cc1ccc([N+](=O)[O-])o1</td>\n",
              "      <td>0.02</td>\n",
              "      <td>&lt;rdkit.Chem.rdchem.Mol object at 0x7f59a314ef10&gt;</td>\n",
              "      <td>13</td>\n",
              "      <td>1.70887</td>\n",
              "    </tr>\n",
              "  </tbody>\n",
              "</table>\n",
              "<p>16087 rows × 5 columns</p>\n",
              "</div>\n",
              "    <div class=\"colab-df-buttons\">\n",
              "\n",
              "  <div class=\"colab-df-container\">\n",
              "    <button class=\"colab-df-convert\" onclick=\"convertToInteractive('df-379d4449-8c94-4dc7-a00a-444888e49dd8')\"\n",
              "            title=\"Convert this dataframe to an interactive table.\"\n",
              "            style=\"display:none;\">\n",
              "\n",
              "  <svg xmlns=\"http://www.w3.org/2000/svg\" height=\"24px\" viewBox=\"0 -960 960 960\">\n",
              "    <path d=\"M120-120v-720h720v720H120Zm60-500h600v-160H180v160Zm220 220h160v-160H400v160Zm0 220h160v-160H400v160ZM180-400h160v-160H180v160Zm440 0h160v-160H620v160ZM180-180h160v-160H180v160Zm440 0h160v-160H620v160Z\"/>\n",
              "  </svg>\n",
              "    </button>\n",
              "\n",
              "  <style>\n",
              "    .colab-df-container {\n",
              "      display:flex;\n",
              "      gap: 12px;\n",
              "    }\n",
              "\n",
              "    .colab-df-convert {\n",
              "      background-color: #E8F0FE;\n",
              "      border: none;\n",
              "      border-radius: 50%;\n",
              "      cursor: pointer;\n",
              "      display: none;\n",
              "      fill: #1967D2;\n",
              "      height: 32px;\n",
              "      padding: 0 0 0 0;\n",
              "      width: 32px;\n",
              "    }\n",
              "\n",
              "    .colab-df-convert:hover {\n",
              "      background-color: #E2EBFA;\n",
              "      box-shadow: 0px 1px 2px rgba(60, 64, 67, 0.3), 0px 1px 3px 1px rgba(60, 64, 67, 0.15);\n",
              "      fill: #174EA6;\n",
              "    }\n",
              "\n",
              "    .colab-df-buttons div {\n",
              "      margin-bottom: 4px;\n",
              "    }\n",
              "\n",
              "    [theme=dark] .colab-df-convert {\n",
              "      background-color: #3B4455;\n",
              "      fill: #D2E3FC;\n",
              "    }\n",
              "\n",
              "    [theme=dark] .colab-df-convert:hover {\n",
              "      background-color: #434B5C;\n",
              "      box-shadow: 0px 1px 3px 1px rgba(0, 0, 0, 0.15);\n",
              "      filter: drop-shadow(0px 1px 2px rgba(0, 0, 0, 0.3));\n",
              "      fill: #FFFFFF;\n",
              "    }\n",
              "  </style>\n",
              "\n",
              "    <script>\n",
              "      const buttonEl =\n",
              "        document.querySelector('#df-379d4449-8c94-4dc7-a00a-444888e49dd8 button.colab-df-convert');\n",
              "      buttonEl.style.display =\n",
              "        google.colab.kernel.accessAllowed ? 'block' : 'none';\n",
              "\n",
              "      async function convertToInteractive(key) {\n",
              "        const element = document.querySelector('#df-379d4449-8c94-4dc7-a00a-444888e49dd8');\n",
              "        const dataTable =\n",
              "          await google.colab.kernel.invokeFunction('convertToInteractive',\n",
              "                                                    [key], {});\n",
              "        if (!dataTable) return;\n",
              "\n",
              "        const docLinkHtml = 'Like what you see? Visit the ' +\n",
              "          '<a target=\"_blank\" href=https://colab.research.google.com/notebooks/data_table.ipynb>data table notebook</a>'\n",
              "          + ' to learn more about interactive tables.';\n",
              "        element.innerHTML = '';\n",
              "        dataTable['output_type'] = 'display_data';\n",
              "        await google.colab.output.renderOutput(dataTable, element);\n",
              "        const docLink = document.createElement('div');\n",
              "        docLink.innerHTML = docLinkHtml;\n",
              "        element.appendChild(docLink);\n",
              "      }\n",
              "    </script>\n",
              "  </div>\n",
              "\n",
              "\n",
              "<div id=\"df-0c31dd38-4917-4bcc-9772-577ca81d0357\">\n",
              "  <button class=\"colab-df-quickchart\" onclick=\"quickchart('df-0c31dd38-4917-4bcc-9772-577ca81d0357')\"\n",
              "            title=\"Suggest charts\"\n",
              "            style=\"display:none;\">\n",
              "\n",
              "<svg xmlns=\"http://www.w3.org/2000/svg\" height=\"24px\"viewBox=\"0 0 24 24\"\n",
              "     width=\"24px\">\n",
              "    <g>\n",
              "        <path d=\"M19 3H5c-1.1 0-2 .9-2 2v14c0 1.1.9 2 2 2h14c1.1 0 2-.9 2-2V5c0-1.1-.9-2-2-2zM9 17H7v-7h2v7zm4 0h-2V7h2v10zm4 0h-2v-4h2v4z\"/>\n",
              "    </g>\n",
              "</svg>\n",
              "  </button>\n",
              "\n",
              "<style>\n",
              "  .colab-df-quickchart {\n",
              "      --bg-color: #E8F0FE;\n",
              "      --fill-color: #1967D2;\n",
              "      --hover-bg-color: #E2EBFA;\n",
              "      --hover-fill-color: #174EA6;\n",
              "      --disabled-fill-color: #AAA;\n",
              "      --disabled-bg-color: #DDD;\n",
              "  }\n",
              "\n",
              "  [theme=dark] .colab-df-quickchart {\n",
              "      --bg-color: #3B4455;\n",
              "      --fill-color: #D2E3FC;\n",
              "      --hover-bg-color: #434B5C;\n",
              "      --hover-fill-color: #FFFFFF;\n",
              "      --disabled-bg-color: #3B4455;\n",
              "      --disabled-fill-color: #666;\n",
              "  }\n",
              "\n",
              "  .colab-df-quickchart {\n",
              "    background-color: var(--bg-color);\n",
              "    border: none;\n",
              "    border-radius: 50%;\n",
              "    cursor: pointer;\n",
              "    display: none;\n",
              "    fill: var(--fill-color);\n",
              "    height: 32px;\n",
              "    padding: 0;\n",
              "    width: 32px;\n",
              "  }\n",
              "\n",
              "  .colab-df-quickchart:hover {\n",
              "    background-color: var(--hover-bg-color);\n",
              "    box-shadow: 0 1px 2px rgba(60, 64, 67, 0.3), 0 1px 3px 1px rgba(60, 64, 67, 0.15);\n",
              "    fill: var(--button-hover-fill-color);\n",
              "  }\n",
              "\n",
              "  .colab-df-quickchart-complete:disabled,\n",
              "  .colab-df-quickchart-complete:disabled:hover {\n",
              "    background-color: var(--disabled-bg-color);\n",
              "    fill: var(--disabled-fill-color);\n",
              "    box-shadow: none;\n",
              "  }\n",
              "\n",
              "  .colab-df-spinner {\n",
              "    border: 2px solid var(--fill-color);\n",
              "    border-color: transparent;\n",
              "    border-bottom-color: var(--fill-color);\n",
              "    animation:\n",
              "      spin 1s steps(1) infinite;\n",
              "  }\n",
              "\n",
              "  @keyframes spin {\n",
              "    0% {\n",
              "      border-color: transparent;\n",
              "      border-bottom-color: var(--fill-color);\n",
              "      border-left-color: var(--fill-color);\n",
              "    }\n",
              "    20% {\n",
              "      border-color: transparent;\n",
              "      border-left-color: var(--fill-color);\n",
              "      border-top-color: var(--fill-color);\n",
              "    }\n",
              "    30% {\n",
              "      border-color: transparent;\n",
              "      border-left-color: var(--fill-color);\n",
              "      border-top-color: var(--fill-color);\n",
              "      border-right-color: var(--fill-color);\n",
              "    }\n",
              "    40% {\n",
              "      border-color: transparent;\n",
              "      border-right-color: var(--fill-color);\n",
              "      border-top-color: var(--fill-color);\n",
              "    }\n",
              "    60% {\n",
              "      border-color: transparent;\n",
              "      border-right-color: var(--fill-color);\n",
              "    }\n",
              "    80% {\n",
              "      border-color: transparent;\n",
              "      border-right-color: var(--fill-color);\n",
              "      border-bottom-color: var(--fill-color);\n",
              "    }\n",
              "    90% {\n",
              "      border-color: transparent;\n",
              "      border-bottom-color: var(--fill-color);\n",
              "    }\n",
              "  }\n",
              "</style>\n",
              "\n",
              "  <script>\n",
              "    async function quickchart(key) {\n",
              "      const quickchartButtonEl =\n",
              "        document.querySelector('#' + key + ' button');\n",
              "      quickchartButtonEl.disabled = true;  // To prevent multiple clicks.\n",
              "      quickchartButtonEl.classList.add('colab-df-spinner');\n",
              "      try {\n",
              "        const charts = await google.colab.kernel.invokeFunction(\n",
              "            'suggestCharts', [key], {});\n",
              "      } catch (error) {\n",
              "        console.error('Error during call to suggestCharts:', error);\n",
              "      }\n",
              "      quickchartButtonEl.classList.remove('colab-df-spinner');\n",
              "      quickchartButtonEl.classList.add('colab-df-quickchart-complete');\n",
              "    }\n",
              "    (() => {\n",
              "      let quickchartButtonEl =\n",
              "        document.querySelector('#df-0c31dd38-4917-4bcc-9772-577ca81d0357 button');\n",
              "      quickchartButtonEl.style.display =\n",
              "        google.colab.kernel.accessAllowed ? 'block' : 'none';\n",
              "    })();\n",
              "  </script>\n",
              "</div>\n",
              "\n",
              "  <div id=\"id_b7e93114-7b39-4111-ba90-c9ef90a4d906\">\n",
              "    <style>\n",
              "      .colab-df-generate {\n",
              "        background-color: #E8F0FE;\n",
              "        border: none;\n",
              "        border-radius: 50%;\n",
              "        cursor: pointer;\n",
              "        display: none;\n",
              "        fill: #1967D2;\n",
              "        height: 32px;\n",
              "        padding: 0 0 0 0;\n",
              "        width: 32px;\n",
              "      }\n",
              "\n",
              "      .colab-df-generate:hover {\n",
              "        background-color: #E2EBFA;\n",
              "        box-shadow: 0px 1px 2px rgba(60, 64, 67, 0.3), 0px 1px 3px 1px rgba(60, 64, 67, 0.15);\n",
              "        fill: #174EA6;\n",
              "      }\n",
              "\n",
              "      [theme=dark] .colab-df-generate {\n",
              "        background-color: #3B4455;\n",
              "        fill: #D2E3FC;\n",
              "      }\n",
              "\n",
              "      [theme=dark] .colab-df-generate:hover {\n",
              "        background-color: #434B5C;\n",
              "        box-shadow: 0px 1px 3px 1px rgba(0, 0, 0, 0.15);\n",
              "        filter: drop-shadow(0px 1px 2px rgba(0, 0, 0, 0.3));\n",
              "        fill: #FFFFFF;\n",
              "      }\n",
              "    </style>\n",
              "    <button class=\"colab-df-generate\" onclick=\"generateWithVariable('df')\"\n",
              "            title=\"Generate code using this dataframe.\"\n",
              "            style=\"display:none;\">\n",
              "\n",
              "  <svg xmlns=\"http://www.w3.org/2000/svg\" height=\"24px\"viewBox=\"0 0 24 24\"\n",
              "       width=\"24px\">\n",
              "    <path d=\"M7,19H8.4L18.45,9,17,7.55,7,17.6ZM5,21V16.75L18.45,3.32a2,2,0,0,1,2.83,0l1.4,1.43a1.91,1.91,0,0,1,.58,1.4,1.91,1.91,0,0,1-.58,1.4L9.25,21ZM18.45,9,17,7.55Zm-12,3A5.31,5.31,0,0,0,4.9,8.1,5.31,5.31,0,0,0,1,6.5,5.31,5.31,0,0,0,4.9,4.9,5.31,5.31,0,0,0,6.5,1,5.31,5.31,0,0,0,8.1,4.9,5.31,5.31,0,0,0,12,6.5,5.46,5.46,0,0,0,6.5,12Z\"/>\n",
              "  </svg>\n",
              "    </button>\n",
              "    <script>\n",
              "      (() => {\n",
              "      const buttonEl =\n",
              "        document.querySelector('#id_b7e93114-7b39-4111-ba90-c9ef90a4d906 button.colab-df-generate');\n",
              "      buttonEl.style.display =\n",
              "        google.colab.kernel.accessAllowed ? 'block' : 'none';\n",
              "\n",
              "      buttonEl.onclick = () => {\n",
              "        google.colab.notebook.generateWithVariable('df');\n",
              "      }\n",
              "      })();\n",
              "    </script>\n",
              "  </div>\n",
              "\n",
              "    </div>\n",
              "  </div>\n"
            ],
            "application/vnd.google.colaboratory.intrinsic+json": {
              "type": "dataframe",
              "variable_name": "df",
              "summary": "{\n  \"name\": \"df\",\n  \"rows\": 16087,\n  \"fields\": [\n    {\n      \"column\": \"SMILES\",\n      \"properties\": {\n        \"dtype\": \"string\",\n        \"num_unique_values\": 15872,\n        \"samples\": [\n          \"CCN(CC)c1ccccc1\",\n          \"Cc1onc(-c2ccccc2Cl)c1C(=O)NC1C(=O)N2C1S(=O)C(C)(C)C2C(=O)O\",\n          \"COc1ccc(C(=O)NN)cc1\"\n        ],\n        \"semantic_type\": \"\",\n        \"description\": \"\"\n      }\n    },\n    {\n      \"column\": \"pIC50\",\n      \"properties\": {\n        \"dtype\": \"number\",\n        \"std\": 2.4795879209826444,\n        \"min\": 0.0,\n        \"max\": 10.97,\n        \"num_unique_values\": 558,\n        \"samples\": [\n          6.62,\n          10.68,\n          5.49\n        ],\n        \"semantic_type\": \"\",\n        \"description\": \"\"\n      }\n    },\n    {\n      \"column\": \"mol\",\n      \"properties\": {\n        \"dtype\": \"string\",\n        \"num_unique_values\": 16087,\n        \"samples\": [\n          \"<rdkit.Chem.rdchem.Mol object at 0x7f59a327a0a0>\",\n          \"<rdkit.Chem.rdchem.Mol object at 0x7f59a3123060>\",\n          \"<rdkit.Chem.rdchem.Mol object at 0x7f59a3135000>\"\n        ],\n        \"semantic_type\": \"\",\n        \"description\": \"\"\n      }\n    },\n    {\n      \"column\": \"num_atoms\",\n      \"properties\": {\n        \"dtype\": \"number\",\n        \"std\": 8,\n        \"min\": 3,\n        \"max\": 85,\n        \"num_unique_values\": 68,\n        \"samples\": [\n          5,\n          30,\n          21\n        ],\n        \"semantic_type\": \"\",\n        \"description\": \"\"\n      }\n    },\n    {\n      \"column\": \"logP\",\n      \"properties\": {\n        \"dtype\": \"number\",\n        \"std\": 1.6098613463986744,\n        \"min\": -5.3956,\n        \"max\": 15.8792,\n        \"num_unique_values\": 11865,\n        \"samples\": [\n          1.7816,\n          2.19968,\n          2.76044\n        ],\n        \"semantic_type\": \"\",\n        \"description\": \"\"\n      }\n    }\n  ]\n}"
            }
          },
          "metadata": {},
          "execution_count": 5
        }
      ],
      "source": [
        "df"
      ]
    },
    {
      "cell_type": "code",
      "execution_count": null,
      "metadata": {
        "id": "9bJ1dWP5Bqns"
      },
      "outputs": [],
      "source": [
        "#df['num_atoms']=df['smiles'].apply(numofatoms)\n",
        "df['num_atoms']=df['SMILES'].apply(numofatoms)"
      ]
    },
    {
      "cell_type": "code",
      "execution_count": null,
      "metadata": {
        "id": "Yf-1iRFVBsi2"
      },
      "outputs": [],
      "source": [
        "#df=df[df['HIV_active']==0]"
      ]
    },
    {
      "cell_type": "code",
      "execution_count": null,
      "metadata": {
        "colab": {
          "base_uri": "https://localhost:8080/"
        },
        "id": "qMxfZUzIBzuN",
        "outputId": "ab30bf9f-e2bf-4374-edd8-0042dbdf23a4"
      },
      "outputs": [
        {
          "output_type": "execute_result",
          "data": {
            "text/plain": [
              "16087"
            ]
          },
          "metadata": {},
          "execution_count": 8
        }
      ],
      "source": [
        "len(df)"
      ]
    },
    {
      "cell_type": "code",
      "execution_count": null,
      "metadata": {
        "colab": {
          "base_uri": "https://localhost:8080/",
          "height": 355
        },
        "id": "kwbWQMBLI31u",
        "outputId": "11f14e14-b9f9-4ea7-f1c9-463d98282337"
      },
      "outputs": [
        {
          "output_type": "execute_result",
          "data": {
            "text/plain": [
              "count    16087.000000\n",
              "mean        18.749984\n",
              "std          8.428888\n",
              "min          3.000000\n",
              "25%         13.000000\n",
              "50%         17.000000\n",
              "75%         23.000000\n",
              "max         85.000000\n",
              "Name: num_atoms, dtype: float64"
            ],
            "text/html": [
              "<div>\n",
              "<style scoped>\n",
              "    .dataframe tbody tr th:only-of-type {\n",
              "        vertical-align: middle;\n",
              "    }\n",
              "\n",
              "    .dataframe tbody tr th {\n",
              "        vertical-align: top;\n",
              "    }\n",
              "\n",
              "    .dataframe thead th {\n",
              "        text-align: right;\n",
              "    }\n",
              "</style>\n",
              "<table border=\"1\" class=\"dataframe\">\n",
              "  <thead>\n",
              "    <tr style=\"text-align: right;\">\n",
              "      <th></th>\n",
              "      <th>num_atoms</th>\n",
              "    </tr>\n",
              "  </thead>\n",
              "  <tbody>\n",
              "    <tr>\n",
              "      <th>count</th>\n",
              "      <td>16087.000000</td>\n",
              "    </tr>\n",
              "    <tr>\n",
              "      <th>mean</th>\n",
              "      <td>18.749984</td>\n",
              "    </tr>\n",
              "    <tr>\n",
              "      <th>std</th>\n",
              "      <td>8.428888</td>\n",
              "    </tr>\n",
              "    <tr>\n",
              "      <th>min</th>\n",
              "      <td>3.000000</td>\n",
              "    </tr>\n",
              "    <tr>\n",
              "      <th>25%</th>\n",
              "      <td>13.000000</td>\n",
              "    </tr>\n",
              "    <tr>\n",
              "      <th>50%</th>\n",
              "      <td>17.000000</td>\n",
              "    </tr>\n",
              "    <tr>\n",
              "      <th>75%</th>\n",
              "      <td>23.000000</td>\n",
              "    </tr>\n",
              "    <tr>\n",
              "      <th>max</th>\n",
              "      <td>85.000000</td>\n",
              "    </tr>\n",
              "  </tbody>\n",
              "</table>\n",
              "</div><br><label><b>dtype:</b> float64</label>"
            ]
          },
          "metadata": {},
          "execution_count": 9
        }
      ],
      "source": [
        "df['num_atoms'].describe()\n",
        "#df['num_atoms'].describe()"
      ]
    },
    {
      "cell_type": "code",
      "execution_count": null,
      "metadata": {
        "id": "OEK5gEV6B3_6"
      },
      "outputs": [],
      "source": [
        "df=df[(df['num_atoms']<21) & (11<df['num_atoms'])]"
      ]
    },
    {
      "cell_type": "code",
      "execution_count": null,
      "metadata": {
        "id": "9NGiQ5VPNYny"
      },
      "outputs": [],
      "source": [
        "def max_degree(m):\n",
        "    molecule=Chem.MolFromSmiles(m)\n",
        "    G=nx.Graph(rdmolops.GetAdjacencyMatrix(molecule))\n",
        "    m_degree=max( list(dict(G.degree()).values()))\n",
        "    return m_degree"
      ]
    },
    {
      "cell_type": "code",
      "execution_count": null,
      "metadata": {
        "colab": {
          "base_uri": "https://localhost:8080/"
        },
        "id": "5jgLdn-MNB7v",
        "outputId": "c570244c-6d5d-4f02-ae16-34ff1636588f"
      },
      "outputs": [
        {
          "output_type": "stream",
          "name": "stderr",
          "text": [
            "<ipython-input-12-f64f46b03843>:1: SettingWithCopyWarning: \n",
            "A value is trying to be set on a copy of a slice from a DataFrame.\n",
            "Try using .loc[row_indexer,col_indexer] = value instead\n",
            "\n",
            "See the caveats in the documentation: https://pandas.pydata.org/pandas-docs/stable/user_guide/indexing.html#returning-a-view-versus-a-copy\n",
            "  df['max_degree']=df['SMILES'].apply(max_degree)\n"
          ]
        }
      ],
      "source": [
        "df['max_degree']=df['SMILES'].apply(max_degree)"
      ]
    },
    {
      "cell_type": "code",
      "execution_count": null,
      "metadata": {
        "colab": {
          "base_uri": "https://localhost:8080/",
          "height": 355
        },
        "id": "64VsMAAeNy9_",
        "outputId": "bc1d5b0f-3b5b-4660-816b-50224daa5c39"
      },
      "outputs": [
        {
          "output_type": "execute_result",
          "data": {
            "text/plain": [
              "count    7734.000000\n",
              "mean        3.203776\n",
              "std         0.411092\n",
              "min         2.000000\n",
              "25%         3.000000\n",
              "50%         3.000000\n",
              "75%         3.000000\n",
              "max         6.000000\n",
              "Name: max_degree, dtype: float64"
            ],
            "text/html": [
              "<div>\n",
              "<style scoped>\n",
              "    .dataframe tbody tr th:only-of-type {\n",
              "        vertical-align: middle;\n",
              "    }\n",
              "\n",
              "    .dataframe tbody tr th {\n",
              "        vertical-align: top;\n",
              "    }\n",
              "\n",
              "    .dataframe thead th {\n",
              "        text-align: right;\n",
              "    }\n",
              "</style>\n",
              "<table border=\"1\" class=\"dataframe\">\n",
              "  <thead>\n",
              "    <tr style=\"text-align: right;\">\n",
              "      <th></th>\n",
              "      <th>max_degree</th>\n",
              "    </tr>\n",
              "  </thead>\n",
              "  <tbody>\n",
              "    <tr>\n",
              "      <th>count</th>\n",
              "      <td>7734.000000</td>\n",
              "    </tr>\n",
              "    <tr>\n",
              "      <th>mean</th>\n",
              "      <td>3.203776</td>\n",
              "    </tr>\n",
              "    <tr>\n",
              "      <th>std</th>\n",
              "      <td>0.411092</td>\n",
              "    </tr>\n",
              "    <tr>\n",
              "      <th>min</th>\n",
              "      <td>2.000000</td>\n",
              "    </tr>\n",
              "    <tr>\n",
              "      <th>25%</th>\n",
              "      <td>3.000000</td>\n",
              "    </tr>\n",
              "    <tr>\n",
              "      <th>50%</th>\n",
              "      <td>3.000000</td>\n",
              "    </tr>\n",
              "    <tr>\n",
              "      <th>75%</th>\n",
              "      <td>3.000000</td>\n",
              "    </tr>\n",
              "    <tr>\n",
              "      <th>max</th>\n",
              "      <td>6.000000</td>\n",
              "    </tr>\n",
              "  </tbody>\n",
              "</table>\n",
              "</div><br><label><b>dtype:</b> float64</label>"
            ]
          },
          "metadata": {},
          "execution_count": 13
        }
      ],
      "source": [
        "df['max_degree'].describe()"
      ]
    },
    {
      "cell_type": "code",
      "execution_count": null,
      "metadata": {
        "colab": {
          "base_uri": "https://localhost:8080/",
          "height": 467
        },
        "id": "PVw9AvDZv4Ul",
        "outputId": "c10e9f93-aaaa-4f63-b197-52efcad5a051"
      },
      "outputs": [
        {
          "output_type": "execute_result",
          "data": {
            "text/plain": [
              "<Axes: ylabel='Frequency'>"
            ]
          },
          "metadata": {},
          "execution_count": 14
        },
        {
          "output_type": "display_data",
          "data": {
            "text/plain": [
              "<Figure size 640x480 with 1 Axes>"
            ],
            "image/png": "[encoded data removed]"
          },
          "metadata": {}
        }
      ],
      "source": [
        "df['max_degree'].plot(kind='hist')"
      ]
    },
    {
      "cell_type": "code",
      "execution_count": null,
      "metadata": {
        "colab": {
          "base_uri": "https://localhost:8080/",
          "height": 467
        },
        "id": "Px4GhMBDwDmK",
        "outputId": "d32ad7d0-a8d8-4778-e9e9-c264b427f5ce"
      },
      "outputs": [
        {
          "output_type": "execute_result",
          "data": {
            "text/plain": [
              "<Axes: ylabel='Frequency'>"
            ]
          },
          "metadata": {},
          "execution_count": 15
        },
        {
          "output_type": "display_data",
          "data": {
            "text/plain": [
              "<Figure size 640x480 with 1 Axes>"
            ],
            "image/png": "[encoded data removed]"
          },
          "metadata": {}
        }
      ],
      "source": [
        "df[df['max_degree']>4]['max_degree'].plot(kind='hist')"
      ]
    },
    {
      "cell_type": "code",
      "execution_count": null,
      "metadata": {
        "id": "lgQyQzEVN7_5"
      },
      "outputs": [],
      "source": [
        "df =df[df['max_degree']<5]"
      ]
    },
    {
      "cell_type": "code",
      "execution_count": null,
      "metadata": {
        "colab": {
          "base_uri": "https://localhost:8080/",
          "height": 467
        },
        "id": "NnXBjI_oOLsG",
        "outputId": "7b9d7508-0ac1-4ba4-c27a-cd118b03427f"
      },
      "outputs": [
        {
          "output_type": "execute_result",
          "data": {
            "text/plain": [
              "<Axes: ylabel='Frequency'>"
            ]
          },
          "metadata": {},
          "execution_count": 17
        },
        {
          "output_type": "display_data",
          "data": {
            "text/plain": [
              "<Figure size 640x480 with 1 Axes>"
            ],
            "image/png": "[encoded data removed]"
          },
          "metadata": {}
        }
      ],
      "source": [
        "df['max_degree'].plot(kind='hist')"
      ]
    },
    {
      "cell_type": "code",
      "execution_count": null,
      "metadata": {
        "id": "VNieBs54MPtd"
      },
      "outputs": [],
      "source": [
        "#M=[]\n",
        "#for i in range(len(df)):\n",
        "#   M.append(Graph_gen(df[\"smiles\"].iloc[i])[5])"
      ]
    },
    {
      "cell_type": "code",
      "execution_count": null,
      "metadata": {
        "colab": {
          "base_uri": "https://localhost:8080/",
          "height": 55
        },
        "id": "9HfvAfmfS3rh",
        "outputId": "36bb6e40-fe24-4453-9078-9854bad9c539"
      },
      "outputs": [
        {
          "output_type": "execute_result",
          "data": {
            "text/plain": [
              "'CN(C)C(=O)CC1CCCCC1'"
            ],
            "application/vnd.google.colaboratory.intrinsic+json": {
              "type": "string"
            }
          },
          "metadata": {},
          "execution_count": 19
        }
      ],
      "source": [
        "df['SMILES'].iloc[2078]"
      ]
    },
    {
      "cell_type": "code",
      "execution_count": null,
      "metadata": {
        "id": "6G4gD2wuZt_u"
      },
      "outputs": [],
      "source": [
        "#def atom_types(x):\n",
        "#  mole=Chem.MolFromSmiles(x)\n",
        "#  atoms_typs=[atom.GetSymbol() for atom in mole.GetAtoms()]\n",
        "#  return list(set(atoms_typs))\n"
      ]
    },
    {
      "cell_type": "code",
      "execution_count": null,
      "metadata": {
        "id": "zNL7uanoax73"
      },
      "outputs": [],
      "source": [
        "#v=[]\n",
        "#for i in range(len(df)):\n",
        "#         for atom  in Chem.MolFromSmiles(df.iloc[i,0]).GetAtoms():\n",
        " #         v.append(atom.GetSymbol())\n"
      ]
    },
    {
      "cell_type": "code",
      "execution_count": null,
      "metadata": {
        "colab": {
          "base_uri": "https://localhost:8080/",
          "height": 444
        },
        "id": "Z_PE9-YuwscD",
        "outputId": "58b9c06b-f507-4449-aaff-20020d9f96fb"
      },
      "outputs": [
        {
          "output_type": "execute_result",
          "data": {
            "text/plain": [
              "                                   SMILES  pIC50  \\\n",
              "78         Cc1nc2cnc3[nH]ccc3c2n1C1CCCCC1   5.22   \n",
              "80      c1cc2c(ncc3ncn(C4CCCCC4)c32)[nH]1   5.24   \n",
              "123           NCCc1nc2cc(C(N)=O)ccc2n1CCN   5.54   \n",
              "126         COc1ccc(-c2cccn3nc(N)nc23)cn1   5.54   \n",
              "142    c1nc(-c2cn(CC3CO3)nn2)c2cc[nH]c2n1   5.61   \n",
              "...                                   ...    ...   \n",
              "16077     O=c1cc(CSc2nc3ccccc3[nH]2)occ1O   0.00   \n",
              "16078        O=c1cc(CSc2nc3ccccc3s2)occ1O   0.00   \n",
              "16083             S=C=NCCCCCCCCCCc1ccccc1   0.00   \n",
              "16084               S=C=NCCCCCCCCc1ccccc1   0.00   \n",
              "16086    N=[N+]=NC=Cc1ccc([N+](=O)[O-])o1   0.02   \n",
              "\n",
              "                                                    mol  num_atoms     logP  \\\n",
              "78     <rdkit.Chem.rdchem.Mol object at 0x7f59a320eb20>         19  3.72622   \n",
              "80     <rdkit.Chem.rdchem.Mol object at 0x7f59a320ec00>         18  3.41780   \n",
              "123    <rdkit.Chem.rdchem.Mol object at 0x7f59a320fed0>         18 -0.40490   \n",
              "126    <rdkit.Chem.rdchem.Mol object at 0x7f59a31deab0>         18  1.38210   \n",
              "142    <rdkit.Chem.rdchem.Mol object at 0x7f59a31df1b0>         18  0.61520   \n",
              "...                                                 ...        ...      ...   \n",
              "16077  <rdkit.Chem.rdchem.Mol object at 0x7f59a314eb20>         19  2.51400   \n",
              "16078  <rdkit.Chem.rdchem.Mol object at 0x7f59a314eb90>         19  3.24740   \n",
              "16083  <rdkit.Chem.rdchem.Mol object at 0x7f59a314edc0>         19  5.45270   \n",
              "16084  <rdkit.Chem.rdchem.Mol object at 0x7f59a314ee30>         17  4.67250   \n",
              "16086  <rdkit.Chem.rdchem.Mol object at 0x7f59a314ef10>         13  1.70887   \n",
              "\n",
              "       max_degree  \n",
              "78              3  \n",
              "80              3  \n",
              "123             3  \n",
              "126             3  \n",
              "142             3  \n",
              "...           ...  \n",
              "16077           3  \n",
              "16078           3  \n",
              "16083           3  \n",
              "16084           3  \n",
              "16086           3  \n",
              "\n",
              "[7732 rows x 6 columns]"
            ],
            "text/html": [
              "\n",
              "  <div id=\"df-16d7cede-4b43-4fc7-9a31-eb1660a42601\" class=\"colab-df-container\">\n",
              "    <div>\n",
              "<style scoped>\n",
              "    .dataframe tbody tr th:only-of-type {\n",
              "        vertical-align: middle;\n",
              "    }\n",
              "\n",
              "    .dataframe tbody tr th {\n",
              "        vertical-align: top;\n",
              "    }\n",
              "\n",
              "    .dataframe thead th {\n",
              "        text-align: right;\n",
              "    }\n",
              "</style>\n",
              "<table border=\"1\" class=\"dataframe\">\n",
              "  <thead>\n",
              "    <tr style=\"text-align: right;\">\n",
              "      <th></th>\n",
              "      <th>SMILES</th>\n",
              "      <th>pIC50</th>\n",
              "      <th>mol</th>\n",
              "      <th>num_atoms</th>\n",
              "      <th>logP</th>\n",
              "      <th>max_degree</th>\n",
              "    </tr>\n",
              "  </thead>\n",
              "  <tbody>\n",
              "    <tr>\n",
              "      <th>78</th>\n",
              "      <td>Cc1nc2cnc3[nH]ccc3c2n1C1CCCCC1</td>\n",
              "      <td>5.22</td>\n",
              "      <td>&lt;rdkit.Chem.rdchem.Mol object at 0x7f59a320eb20&gt;</td>\n",
              "      <td>19</td>\n",
              "      <td>3.72622</td>\n",
              "      <td>3</td>\n",
              "    </tr>\n",
              "    <tr>\n",
              "      <th>80</th>\n",
              "      <td>c1cc2c(ncc3ncn(C4CCCCC4)c32)[nH]1</td>\n",
              "      <td>5.24</td>\n",
              "      <td>&lt;rdkit.Chem.rdchem.Mol object at 0x7f59a320ec00&gt;</td>\n",
              "      <td>18</td>\n",
              "      <td>3.41780</td>\n",
              "      <td>3</td>\n",
              "    </tr>\n",
              "    <tr>\n",
              "      <th>123</th>\n",
              "      <td>NCCc1nc2cc(C(N)=O)ccc2n1CCN</td>\n",
              "      <td>5.54</td>\n",
              "      <td>&lt;rdkit.Chem.rdchem.Mol object at 0x7f59a320fed0&gt;</td>\n",
              "      <td>18</td>\n",
              "      <td>-0.40490</td>\n",
              "      <td>3</td>\n",
              "    </tr>\n",
              "    <tr>\n",
              "      <th>126</th>\n",
              "      <td>COc1ccc(-c2cccn3nc(N)nc23)cn1</td>\n",
              "      <td>5.54</td>\n",
              "      <td>&lt;rdkit.Chem.rdchem.Mol object at 0x7f59a31deab0&gt;</td>\n",
              "      <td>18</td>\n",
              "      <td>1.38210</td>\n",
              "      <td>3</td>\n",
              "    </tr>\n",
              "    <tr>\n",
              "      <th>142</th>\n",
              "      <td>c1nc(-c2cn(CC3CO3)nn2)c2cc[nH]c2n1</td>\n",
              "      <td>5.61</td>\n",
              "      <td>&lt;rdkit.Chem.rdchem.Mol object at 0x7f59a31df1b0&gt;</td>\n",
              "      <td>18</td>\n",
              "      <td>0.61520</td>\n",
              "      <td>3</td>\n",
              "    </tr>\n",
              "    <tr>\n",
              "      <th>...</th>\n",
              "      <td>...</td>\n",
              "      <td>...</td>\n",
              "      <td>...</td>\n",
              "      <td>...</td>\n",
              "      <td>...</td>\n",
              "      <td>...</td>\n",
              "    </tr>\n",
              "    <tr>\n",
              "      <th>16077</th>\n",
              "      <td>O=c1cc(CSc2nc3ccccc3[nH]2)occ1O</td>\n",
              "      <td>0.00</td>\n",
              "      <td>&lt;rdkit.Chem.rdchem.Mol object at 0x7f59a314eb20&gt;</td>\n",
              "      <td>19</td>\n",
              "      <td>2.51400</td>\n",
              "      <td>3</td>\n",
              "    </tr>\n",
              "    <tr>\n",
              "      <th>16078</th>\n",
              "      <td>O=c1cc(CSc2nc3ccccc3s2)occ1O</td>\n",
              "      <td>0.00</td>\n",
              "      <td>&lt;rdkit.Chem.rdchem.Mol object at 0x7f59a314eb90&gt;</td>\n",
              "      <td>19</td>\n",
              "      <td>3.24740</td>\n",
              "      <td>3</td>\n",
              "    </tr>\n",
              "    <tr>\n",
              "      <th>16083</th>\n",
              "      <td>S=C=NCCCCCCCCCCc1ccccc1</td>\n",
              "      <td>0.00</td>\n",
              "      <td>&lt;rdkit.Chem.rdchem.Mol object at 0x7f59a314edc0&gt;</td>\n",
              "      <td>19</td>\n",
              "      <td>5.45270</td>\n",
              "      <td>3</td>\n",
              "    </tr>\n",
              "    <tr>\n",
              "      <th>16084</th>\n",
              "      <td>S=C=NCCCCCCCCc1ccccc1</td>\n",
              "      <td>0.00</td>\n",
              "      <td>&lt;rdkit.Chem.rdchem.Mol object at 0x7f59a314ee30&gt;</td>\n",
              "      <td>17</td>\n",
              "      <td>4.67250</td>\n",
              "      <td>3</td>\n",
              "    </tr>\n",
              "    <tr>\n",
              "      <th>16086</th>\n",
              "      <td>N=[N+]=NC=Cc1ccc([N+](=O)[O-])o1</td>\n",
              "      <td>0.02</td>\n",
              "      <td>&lt;rdkit.Chem.rdchem.Mol object at 0x7f59a314ef10&gt;</td>\n",
              "      <td>13</td>\n",
              "      <td>1.70887</td>\n",
              "      <td>3</td>\n",
              "    </tr>\n",
              "  </tbody>\n",
              "</table>\n",
              "<p>7732 rows × 6 columns</p>\n",
              "</div>\n",
              "    <div class=\"colab-df-buttons\">\n",
              "\n",
              "  <div class=\"colab-df-container\">\n",
              "    <button class=\"colab-df-convert\" onclick=\"convertToInteractive('df-16d7cede-4b43-4fc7-9a31-eb1660a42601')\"\n",
              "            title=\"Convert this dataframe to an interactive table.\"\n",
              "            style=\"display:none;\">\n",
              "\n",
              "  <svg xmlns=\"http://www.w3.org/2000/svg\" height=\"24px\" viewBox=\"0 -960 960 960\">\n",
              "    <path d=\"M120-120v-720h720v720H120Zm60-500h600v-160H180v160Zm220 220h160v-160H400v160Zm0 220h160v-160H400v160ZM180-400h160v-160H180v160Zm440 0h160v-160H620v160ZM180-180h160v-160H180v160Zm440 0h160v-160H620v160Z\"/>\n",
              "  </svg>\n",
              "    </button>\n",
              "\n",
              "  <style>\n",
              "    .colab-df-container {\n",
              "      display:flex;\n",
              "      gap: 12px;\n",
              "    }\n",
              "\n",
              "    .colab-df-convert {\n",
              "      background-color: #E8F0FE;\n",
              "      border: none;\n",
              "      border-radius: 50%;\n",
              "      cursor: pointer;\n",
              "      display: none;\n",
              "      fill: #1967D2;\n",
              "      height: 32px;\n",
              "      padding: 0 0 0 0;\n",
              "      width: 32px;\n",
              "    }\n",
              "\n",
              "    .colab-df-convert:hover {\n",
              "      background-color: #E2EBFA;\n",
              "      box-shadow: 0px 1px 2px rgba(60, 64, 67, 0.3), 0px 1px 3px 1px rgba(60, 64, 67, 0.15);\n",
              "      fill: #174EA6;\n",
              "    }\n",
              "\n",
              "    .colab-df-buttons div {\n",
              "      margin-bottom: 4px;\n",
              "    }\n",
              "\n",
              "    [theme=dark] .colab-df-convert {\n",
              "      background-color: #3B4455;\n",
              "      fill: #D2E3FC;\n",
              "    }\n",
              "\n",
              "    [theme=dark] .colab-df-convert:hover {\n",
              "      background-color: #434B5C;\n",
              "      box-shadow: 0px 1px 3px 1px rgba(0, 0, 0, 0.15);\n",
              "      filter: drop-shadow(0px 1px 2px rgba(0, 0, 0, 0.3));\n",
              "      fill: #FFFFFF;\n",
              "    }\n",
              "  </style>\n",
              "\n",
              "    <script>\n",
              "      const buttonEl =\n",
              "        document.querySelector('#df-16d7cede-4b43-4fc7-9a31-eb1660a42601 button.colab-df-convert');\n",
              "      buttonEl.style.display =\n",
              "        google.colab.kernel.accessAllowed ? 'block' : 'none';\n",
              "\n",
              "      async function convertToInteractive(key) {\n",
              "        const element = document.querySelector('#df-16d7cede-4b43-4fc7-9a31-eb1660a42601');\n",
              "        const dataTable =\n",
              "          await google.colab.kernel.invokeFunction('convertToInteractive',\n",
              "                                                    [key], {});\n",
              "        if (!dataTable) return;\n",
              "\n",
              "        const docLinkHtml = 'Like what you see? Visit the ' +\n",
              "          '<a target=\"_blank\" href=https://colab.research.google.com/notebooks/data_table.ipynb>data table notebook</a>'\n",
              "          + ' to learn more about interactive tables.';\n",
              "        element.innerHTML = '';\n",
              "        dataTable['output_type'] = 'display_data';\n",
              "        await google.colab.output.renderOutput(dataTable, element);\n",
              "        const docLink = document.createElement('div');\n",
              "        docLink.innerHTML = docLinkHtml;\n",
              "        element.appendChild(docLink);\n",
              "      }\n",
              "    </script>\n",
              "  </div>\n",
              "\n",
              "\n",
              "<div id=\"df-4a532426-78a1-4dbc-8339-a71a19a9541d\">\n",
              "  <button class=\"colab-df-quickchart\" onclick=\"quickchart('df-4a532426-78a1-4dbc-8339-a71a19a9541d')\"\n",
              "            title=\"Suggest charts\"\n",
              "            style=\"display:none;\">\n",
              "\n",
              "<svg xmlns=\"http://www.w3.org/2000/svg\" height=\"24px\"viewBox=\"0 0 24 24\"\n",
              "     width=\"24px\">\n",
              "    <g>\n",
              "        <path d=\"M19 3H5c-1.1 0-2 .9-2 2v14c0 1.1.9 2 2 2h14c1.1 0 2-.9 2-2V5c0-1.1-.9-2-2-2zM9 17H7v-7h2v7zm4 0h-2V7h2v10zm4 0h-2v-4h2v4z\"/>\n",
              "    </g>\n",
              "</svg>\n",
              "  </button>\n",
              "\n",
              "<style>\n",
              "  .colab-df-quickchart {\n",
              "      --bg-color: #E8F0FE;\n",
              "      --fill-color: #1967D2;\n",
              "      --hover-bg-color: #E2EBFA;\n",
              "      --hover-fill-color: #174EA6;\n",
              "      --disabled-fill-color: #AAA;\n",
              "      --disabled-bg-color: #DDD;\n",
              "  }\n",
              "\n",
              "  [theme=dark] .colab-df-quickchart {\n",
              "      --bg-color: #3B4455;\n",
              "      --fill-color: #D2E3FC;\n",
              "      --hover-bg-color: #434B5C;\n",
              "      --hover-fill-color: #FFFFFF;\n",
              "      --disabled-bg-color: #3B4455;\n",
              "      --disabled-fill-color: #666;\n",
              "  }\n",
              "\n",
              "  .colab-df-quickchart {\n",
              "    background-color: var(--bg-color);\n",
              "    border: none;\n",
              "    border-radius: 50%;\n",
              "    cursor: pointer;\n",
              "    display: none;\n",
              "    fill: var(--fill-color);\n",
              "    height: 32px;\n",
              "    padding: 0;\n",
              "    width: 32px;\n",
              "  }\n",
              "\n",
              "  .colab-df-quickchart:hover {\n",
              "    background-color: var(--hover-bg-color);\n",
              "    box-shadow: 0 1px 2px rgba(60, 64, 67, 0.3), 0 1px 3px 1px rgba(60, 64, 67, 0.15);\n",
              "    fill: var(--button-hover-fill-color);\n",
              "  }\n",
              "\n",
              "  .colab-df-quickchart-complete:disabled,\n",
              "  .colab-df-quickchart-complete:disabled:hover {\n",
              "    background-color: var(--disabled-bg-color);\n",
              "    fill: var(--disabled-fill-color);\n",
              "    box-shadow: none;\n",
              "  }\n",
              "\n",
              "  .colab-df-spinner {\n",
              "    border: 2px solid var(--fill-color);\n",
              "    border-color: transparent;\n",
              "    border-bottom-color: var(--fill-color);\n",
              "    animation:\n",
              "      spin 1s steps(1) infinite;\n",
              "  }\n",
              "\n",
              "  @keyframes spin {\n",
              "    0% {\n",
              "      border-color: transparent;\n",
              "      border-bottom-color: var(--fill-color);\n",
              "      border-left-color: var(--fill-color);\n",
              "    }\n",
              "    20% {\n",
              "      border-color: transparent;\n",
              "      border-left-color: var(--fill-color);\n",
              "      border-top-color: var(--fill-color);\n",
              "    }\n",
              "    30% {\n",
              "      border-color: transparent;\n",
              "      border-left-color: var(--fill-color);\n",
              "      border-top-color: var(--fill-color);\n",
              "      border-right-color: var(--fill-color);\n",
              "    }\n",
              "    40% {\n",
              "      border-color: transparent;\n",
              "      border-right-color: var(--fill-color);\n",
              "      border-top-color: var(--fill-color);\n",
              "    }\n",
              "    60% {\n",
              "      border-color: transparent;\n",
              "      border-right-color: var(--fill-color);\n",
              "    }\n",
              "    80% {\n",
              "      border-color: transparent;\n",
              "      border-right-color: var(--fill-color);\n",
              "      border-bottom-color: var(--fill-color);\n",
              "    }\n",
              "    90% {\n",
              "      border-color: transparent;\n",
              "      border-bottom-color: var(--fill-color);\n",
              "    }\n",
              "  }\n",
              "</style>\n",
              "\n",
              "  <script>\n",
              "    async function quickchart(key) {\n",
              "      const quickchartButtonEl =\n",
              "        document.querySelector('#' + key + ' button');\n",
              "      quickchartButtonEl.disabled = true;  // To prevent multiple clicks.\n",
              "      quickchartButtonEl.classList.add('colab-df-spinner');\n",
              "      try {\n",
              "        const charts = await google.colab.kernel.invokeFunction(\n",
              "            'suggestCharts', [key], {});\n",
              "      } catch (error) {\n",
              "        console.error('Error during call to suggestCharts:', error);\n",
              "      }\n",
              "      quickchartButtonEl.classList.remove('colab-df-spinner');\n",
              "      quickchartButtonEl.classList.add('colab-df-quickchart-complete');\n",
              "    }\n",
              "    (() => {\n",
              "      let quickchartButtonEl =\n",
              "        document.querySelector('#df-4a532426-78a1-4dbc-8339-a71a19a9541d button');\n",
              "      quickchartButtonEl.style.display =\n",
              "        google.colab.kernel.accessAllowed ? 'block' : 'none';\n",
              "    })();\n",
              "  </script>\n",
              "</div>\n",
              "\n",
              "  <div id=\"id_222a17e3-eb04-4ee5-ad08-991cc66718ee\">\n",
              "    <style>\n",
              "      .colab-df-generate {\n",
              "        background-color: #E8F0FE;\n",
              "        border: none;\n",
              "        border-radius: 50%;\n",
              "        cursor: pointer;\n",
              "        display: none;\n",
              "        fill: #1967D2;\n",
              "        height: 32px;\n",
              "        padding: 0 0 0 0;\n",
              "        width: 32px;\n",
              "      }\n",
              "\n",
              "      .colab-df-generate:hover {\n",
              "        background-color: #E2EBFA;\n",
              "        box-shadow: 0px 1px 2px rgba(60, 64, 67, 0.3), 0px 1px 3px 1px rgba(60, 64, 67, 0.15);\n",
              "        fill: #174EA6;\n",
              "      }\n",
              "\n",
              "      [theme=dark] .colab-df-generate {\n",
              "        background-color: #3B4455;\n",
              "        fill: #D2E3FC;\n",
              "      }\n",
              "\n",
              "      [theme=dark] .colab-df-generate:hover {\n",
              "        background-color: #434B5C;\n",
              "        box-shadow: 0px 1px 3px 1px rgba(0, 0, 0, 0.15);\n",
              "        filter: drop-shadow(0px 1px 2px rgba(0, 0, 0, 0.3));\n",
              "        fill: #FFFFFF;\n",
              "      }\n",
              "    </style>\n",
              "    <button class=\"colab-df-generate\" onclick=\"generateWithVariable('df')\"\n",
              "            title=\"Generate code using this dataframe.\"\n",
              "            style=\"display:none;\">\n",
              "\n",
              "  <svg xmlns=\"http://www.w3.org/2000/svg\" height=\"24px\"viewBox=\"0 0 24 24\"\n",
              "       width=\"24px\">\n",
              "    <path d=\"M7,19H8.4L18.45,9,17,7.55,7,17.6ZM5,21V16.75L18.45,3.32a2,2,0,0,1,2.83,0l1.4,1.43a1.91,1.91,0,0,1,.58,1.4,1.91,1.91,0,0,1-.58,1.4L9.25,21ZM18.45,9,17,7.55Zm-12,3A5.31,5.31,0,0,0,4.9,8.1,5.31,5.31,0,0,0,1,6.5,5.31,5.31,0,0,0,4.9,4.9,5.31,5.31,0,0,0,6.5,1,5.31,5.31,0,0,0,8.1,4.9,5.31,5.31,0,0,0,12,6.5,5.46,5.46,0,0,0,6.5,12Z\"/>\n",
              "  </svg>\n",
              "    </button>\n",
              "    <script>\n",
              "      (() => {\n",
              "      const buttonEl =\n",
              "        document.querySelector('#id_222a17e3-eb04-4ee5-ad08-991cc66718ee button.colab-df-generate');\n",
              "      buttonEl.style.display =\n",
              "        google.colab.kernel.accessAllowed ? 'block' : 'none';\n",
              "\n",
              "      buttonEl.onclick = () => {\n",
              "        google.colab.notebook.generateWithVariable('df');\n",
              "      }\n",
              "      })();\n",
              "    </script>\n",
              "  </div>\n",
              "\n",
              "    </div>\n",
              "  </div>\n"
            ],
            "application/vnd.google.colaboratory.intrinsic+json": {
              "type": "dataframe",
              "variable_name": "df",
              "summary": "{\n  \"name\": \"df\",\n  \"rows\": 7732,\n  \"fields\": [\n    {\n      \"column\": \"SMILES\",\n      \"properties\": {\n        \"dtype\": \"string\",\n        \"num_unique_values\": 7711,\n        \"samples\": [\n          \"CN(C)C(N(C)C)=S(I)c1cc(Cl)c(Cl)cc1Cl\",\n          \"O=c1[nH]nc(SCc2ccccc2)[nH]1\",\n          \"O=C(O)COc1ccc(Cl)c([N+](=O)[O-])c1\"\n        ],\n        \"semantic_type\": \"\",\n        \"description\": \"\"\n      }\n    },\n    {\n      \"column\": \"pIC50\",\n      \"properties\": {\n        \"dtype\": \"number\",\n        \"std\": 0.6127331091505004,\n        \"min\": 0.0,\n        \"max\": 8.36,\n        \"num_unique_values\": 145,\n        \"samples\": [\n          0.1,\n          0.79,\n          7.01\n        ],\n        \"semantic_type\": \"\",\n        \"description\": \"\"\n      }\n    },\n    {\n      \"column\": \"mol\",\n      \"properties\": {\n        \"dtype\": \"string\",\n        \"num_unique_values\": 7732,\n        \"samples\": [\n          \"<rdkit.Chem.rdchem.Mol object at 0x7f59a29d4970>\",\n          \"<rdkit.Chem.rdchem.Mol object at 0x7f59a299cac0>\",\n          \"<rdkit.Chem.rdchem.Mol object at 0x7f59a312adc0>\"\n        ],\n        \"semantic_type\": \"\",\n        \"description\": \"\"\n      }\n    },\n    {\n      \"column\": \"num_atoms\",\n      \"properties\": {\n        \"dtype\": \"number\",\n        \"std\": 2,\n        \"min\": 12,\n        \"max\": 20,\n        \"num_unique_values\": 9,\n        \"samples\": [\n          12,\n          18,\n          13\n        ],\n        \"semantic_type\": \"\",\n        \"description\": \"\"\n      }\n    },\n    {\n      \"column\": \"logP\",\n      \"properties\": {\n        \"dtype\": \"number\",\n        \"std\": 1.5764805587518942,\n        \"min\": -3.5854,\n        \"max\": 9.4536,\n        \"num_unique_values\": 5794,\n        \"samples\": [\n          1.7861,\n          0.7108,\n          2.9681\n        ],\n        \"semantic_type\": \"\",\n        \"description\": \"\"\n      }\n    },\n    {\n      \"column\": \"max_degree\",\n      \"properties\": {\n        \"dtype\": \"number\",\n        \"std\": 0,\n        \"min\": 2,\n        \"max\": 4,\n        \"num_unique_values\": 3,\n        \"samples\": [\n          3,\n          4,\n          2\n        ],\n        \"semantic_type\": \"\",\n        \"description\": \"\"\n      }\n    }\n  ]\n}"
            }
          },
          "metadata": {},
          "execution_count": 22
        }
      ],
      "source": [
        "df"
      ]
    },
    {
      "cell_type": "code",
      "execution_count": null,
      "metadata": {
        "id": "0iofG6WIl0ir"
      },
      "outputs": [],
      "source": []
    },
    {
      "cell_type": "code",
      "execution_count": null,
      "metadata": {
        "colab": {
          "base_uri": "https://localhost:8080/",
          "height": 355
        },
        "id": "FPzro60nfjGp",
        "outputId": "deb84afa-9069-436b-81c5-c95c175d7fac"
      },
      "outputs": [
        {
          "output_type": "execute_result",
          "data": {
            "text/plain": [
              "count    7732.000000\n",
              "mean        2.125830\n",
              "std         1.576481\n",
              "min        -3.585400\n",
              "25%         1.182150\n",
              "50%         2.034490\n",
              "75%         2.926150\n",
              "max         9.453600\n",
              "Name: logP, dtype: float64"
            ],
            "text/html": [
              "<div>\n",
              "<style scoped>\n",
              "    .dataframe tbody tr th:only-of-type {\n",
              "        vertical-align: middle;\n",
              "    }\n",
              "\n",
              "    .dataframe tbody tr th {\n",
              "        vertical-align: top;\n",
              "    }\n",
              "\n",
              "    .dataframe thead th {\n",
              "        text-align: right;\n",
              "    }\n",
              "</style>\n",
              "<table border=\"1\" class=\"dataframe\">\n",
              "  <thead>\n",
              "    <tr style=\"text-align: right;\">\n",
              "      <th></th>\n",
              "      <th>logP</th>\n",
              "    </tr>\n",
              "  </thead>\n",
              "  <tbody>\n",
              "    <tr>\n",
              "      <th>count</th>\n",
              "      <td>7732.000000</td>\n",
              "    </tr>\n",
              "    <tr>\n",
              "      <th>mean</th>\n",
              "      <td>2.125830</td>\n",
              "    </tr>\n",
              "    <tr>\n",
              "      <th>std</th>\n",
              "      <td>1.576481</td>\n",
              "    </tr>\n",
              "    <tr>\n",
              "      <th>min</th>\n",
              "      <td>-3.585400</td>\n",
              "    </tr>\n",
              "    <tr>\n",
              "      <th>25%</th>\n",
              "      <td>1.182150</td>\n",
              "    </tr>\n",
              "    <tr>\n",
              "      <th>50%</th>\n",
              "      <td>2.034490</td>\n",
              "    </tr>\n",
              "    <tr>\n",
              "      <th>75%</th>\n",
              "      <td>2.926150</td>\n",
              "    </tr>\n",
              "    <tr>\n",
              "      <th>max</th>\n",
              "      <td>9.453600</td>\n",
              "    </tr>\n",
              "  </tbody>\n",
              "</table>\n",
              "</div><br><label><b>dtype:</b> float64</label>"
            ]
          },
          "metadata": {},
          "execution_count": 23
        }
      ],
      "source": [
        "df['logP'].describe()"
      ]
    },
    {
      "cell_type": "code",
      "execution_count": null,
      "metadata": {
        "colab": {
          "base_uri": "https://localhost:8080/",
          "height": 467
        },
        "id": "hVx2VhSaeW_T",
        "outputId": "00b8c302-b754-4541-b37a-4bdc1ca8be6f"
      },
      "outputs": [
        {
          "output_type": "execute_result",
          "data": {
            "text/plain": [
              "<Axes: ylabel='Frequency'>"
            ]
          },
          "metadata": {},
          "execution_count": 24
        },
        {
          "output_type": "display_data",
          "data": {
            "text/plain": [
              "<Figure size 640x480 with 1 Axes>"
            ],
            "image/png": "[encoded data removed]"
          },
          "metadata": {}
        }
      ],
      "source": [
        "df['logP'].plot(kind='hist', bins=1500)"
      ]
    },
    {
      "cell_type": "code",
      "execution_count": null,
      "metadata": {
        "id": "NZghPXUamq5b"
      },
      "outputs": [],
      "source": [
        "df_N=df[df['logP']>2.1]"
      ]
    },
    {
      "cell_type": "code",
      "execution_count": null,
      "metadata": {
        "colab": {
          "base_uri": "https://localhost:8080/",
          "height": 444
        },
        "id": "Ip40Bwh1m-3p",
        "outputId": "5f7588f5-93af-4872-95e6-5c5f4a8ae101"
      },
      "outputs": [
        {
          "output_type": "execute_result",
          "data": {
            "text/plain": [
              "                                       SMILES  pIC50  \\\n",
              "78             Cc1nc2cnc3[nH]ccc3c2n1C1CCCCC1   5.22   \n",
              "80          c1cc2c(ncc3ncn(C4CCCCC4)c32)[nH]1   5.24   \n",
              "158              CN(c1ccnc2[nH]ccc12)C1CCCCC1   5.75   \n",
              "213                  c1ccc(Nc2nc3ccccn3n2)cc1   5.96   \n",
              "218    Cc1ccc(Cl)cc1-c1nc(-c2ccnc(N)n2)c[nH]1   5.97   \n",
              "...                                       ...    ...   \n",
              "16065                 O=c1cc(CSC2CCCCC2)occ1O   0.00   \n",
              "16077         O=c1cc(CSc2nc3ccccc3[nH]2)occ1O   0.00   \n",
              "16078            O=c1cc(CSc2nc3ccccc3s2)occ1O   0.00   \n",
              "16083                 S=C=NCCCCCCCCCCc1ccccc1   0.00   \n",
              "16084                   S=C=NCCCCCCCCc1ccccc1   0.00   \n",
              "\n",
              "                                                    mol  num_atoms     logP  \\\n",
              "78     <rdkit.Chem.rdchem.Mol object at 0x7f59a320eb20>         19  3.72622   \n",
              "80     <rdkit.Chem.rdchem.Mol object at 0x7f59a320ec00>         18  3.41780   \n",
              "158    <rdkit.Chem.rdchem.Mol object at 0x7f59a31df8b0>         17  3.33180   \n",
              "213    <rdkit.Chem.rdchem.Mol object at 0x7f59a2939150>         16  2.47290   \n",
              "218    <rdkit.Chem.rdchem.Mol object at 0x7f59a2939380>         20  3.07772   \n",
              "...                                                 ...        ...      ...   \n",
              "16065  <rdkit.Chem.rdchem.Mol object at 0x7f59a314e5e0>         16  2.91130   \n",
              "16077  <rdkit.Chem.rdchem.Mol object at 0x7f59a314eb20>         19  2.51400   \n",
              "16078  <rdkit.Chem.rdchem.Mol object at 0x7f59a314eb90>         19  3.24740   \n",
              "16083  <rdkit.Chem.rdchem.Mol object at 0x7f59a314edc0>         19  5.45270   \n",
              "16084  <rdkit.Chem.rdchem.Mol object at 0x7f59a314ee30>         17  4.67250   \n",
              "\n",
              "       max_degree  \n",
              "78              3  \n",
              "80              3  \n",
              "158             3  \n",
              "213             3  \n",
              "218             3  \n",
              "...           ...  \n",
              "16065           3  \n",
              "16077           3  \n",
              "16078           3  \n",
              "16083           3  \n",
              "16084           3  \n",
              "\n",
              "[3719 rows x 6 columns]"
            ],
            "text/html": [
              "\n",
              "  <div id=\"df-b463f3b8-7359-42c1-9e65-184778da4d54\" class=\"colab-df-container\">\n",
              "    <div>\n",
              "<style scoped>\n",
              "    .dataframe tbody tr th:only-of-type {\n",
              "        vertical-align: middle;\n",
              "    }\n",
              "\n",
              "    .dataframe tbody tr th {\n",
              "        vertical-align: top;\n",
              "    }\n",
              "\n",
              "    .dataframe thead th {\n",
              "        text-align: right;\n",
              "    }\n",
              "</style>\n",
              "<table border=\"1\" class=\"dataframe\">\n",
              "  <thead>\n",
              "    <tr style=\"text-align: right;\">\n",
              "      <th></th>\n",
              "      <th>SMILES</th>\n",
              "      <th>pIC50</th>\n",
              "      <th>mol</th>\n",
              "      <th>num_atoms</th>\n",
              "      <th>logP</th>\n",
              "      <th>max_degree</th>\n",
              "    </tr>\n",
              "  </thead>\n",
              "  <tbody>\n",
              "    <tr>\n",
              "      <th>78</th>\n",
              "      <td>Cc1nc2cnc3[nH]ccc3c2n1C1CCCCC1</td>\n",
              "      <td>5.22</td>\n",
              "      <td>&lt;rdkit.Chem.rdchem.Mol object at 0x7f59a320eb20&gt;</td>\n",
              "      <td>19</td>\n",
              "      <td>3.72622</td>\n",
              "      <td>3</td>\n",
              "    </tr>\n",
              "    <tr>\n",
              "      <th>80</th>\n",
              "      <td>c1cc2c(ncc3ncn(C4CCCCC4)c32)[nH]1</td>\n",
              "      <td>5.24</td>\n",
              "      <td>&lt;rdkit.Chem.rdchem.Mol object at 0x7f59a320ec00&gt;</td>\n",
              "      <td>18</td>\n",
              "      <td>3.41780</td>\n",
              "      <td>3</td>\n",
              "    </tr>\n",
              "    <tr>\n",
              "      <th>158</th>\n",
              "      <td>CN(c1ccnc2[nH]ccc12)C1CCCCC1</td>\n",
              "      <td>5.75</td>\n",
              "      <td>&lt;rdkit.Chem.rdchem.Mol object at 0x7f59a31df8b0&gt;</td>\n",
              "      <td>17</td>\n",
              "      <td>3.33180</td>\n",
              "      <td>3</td>\n",
              "    </tr>\n",
              "    <tr>\n",
              "      <th>213</th>\n",
              "      <td>c1ccc(Nc2nc3ccccn3n2)cc1</td>\n",
              "      <td>5.96</td>\n",
              "      <td>&lt;rdkit.Chem.rdchem.Mol object at 0x7f59a2939150&gt;</td>\n",
              "      <td>16</td>\n",
              "      <td>2.47290</td>\n",
              "      <td>3</td>\n",
              "    </tr>\n",
              "    <tr>\n",
              "      <th>218</th>\n",
              "      <td>Cc1ccc(Cl)cc1-c1nc(-c2ccnc(N)n2)c[nH]1</td>\n",
              "      <td>5.97</td>\n",
              "      <td>&lt;rdkit.Chem.rdchem.Mol object at 0x7f59a2939380&gt;</td>\n",
              "      <td>20</td>\n",
              "      <td>3.07772</td>\n",
              "      <td>3</td>\n",
              "    </tr>\n",
              "    <tr>\n",
              "      <th>...</th>\n",
              "      <td>...</td>\n",
              "      <td>...</td>\n",
              "      <td>...</td>\n",
              "      <td>...</td>\n",
              "      <td>...</td>\n",
              "      <td>...</td>\n",
              "    </tr>\n",
              "    <tr>\n",
              "      <th>16065</th>\n",
              "      <td>O=c1cc(CSC2CCCCC2)occ1O</td>\n",
              "      <td>0.00</td>\n",
              "      <td>&lt;rdkit.Chem.rdchem.Mol object at 0x7f59a314e5e0&gt;</td>\n",
              "      <td>16</td>\n",
              "      <td>2.91130</td>\n",
              "      <td>3</td>\n",
              "    </tr>\n",
              "    <tr>\n",
              "      <th>16077</th>\n",
              "      <td>O=c1cc(CSc2nc3ccccc3[nH]2)occ1O</td>\n",
              "      <td>0.00</td>\n",
              "      <td>&lt;rdkit.Chem.rdchem.Mol object at 0x7f59a314eb20&gt;</td>\n",
              "      <td>19</td>\n",
              "      <td>2.51400</td>\n",
              "      <td>3</td>\n",
              "    </tr>\n",
              "    <tr>\n",
              "      <th>16078</th>\n",
              "      <td>O=c1cc(CSc2nc3ccccc3s2)occ1O</td>\n",
              "      <td>0.00</td>\n",
              "      <td>&lt;rdkit.Chem.rdchem.Mol object at 0x7f59a314eb90&gt;</td>\n",
              "      <td>19</td>\n",
              "      <td>3.24740</td>\n",
              "      <td>3</td>\n",
              "    </tr>\n",
              "    <tr>\n",
              "      <th>16083</th>\n",
              "      <td>S=C=NCCCCCCCCCCc1ccccc1</td>\n",
              "      <td>0.00</td>\n",
              "      <td>&lt;rdkit.Chem.rdchem.Mol object at 0x7f59a314edc0&gt;</td>\n",
              "      <td>19</td>\n",
              "      <td>5.45270</td>\n",
              "      <td>3</td>\n",
              "    </tr>\n",
              "    <tr>\n",
              "      <th>16084</th>\n",
              "      <td>S=C=NCCCCCCCCc1ccccc1</td>\n",
              "      <td>0.00</td>\n",
              "      <td>&lt;rdkit.Chem.rdchem.Mol object at 0x7f59a314ee30&gt;</td>\n",
              "      <td>17</td>\n",
              "      <td>4.67250</td>\n",
              "      <td>3</td>\n",
              "    </tr>\n",
              "  </tbody>\n",
              "</table>\n",
              "<p>3719 rows × 6 columns</p>\n",
              "</div>\n",
              "    <div class=\"colab-df-buttons\">\n",
              "\n",
              "  <div class=\"colab-df-container\">\n",
              "    <button class=\"colab-df-convert\" onclick=\"convertToInteractive('df-b463f3b8-7359-42c1-9e65-184778da4d54')\"\n",
              "            title=\"Convert this dataframe to an interactive table.\"\n",
              "            style=\"display:none;\">\n",
              "\n",
              "  <svg xmlns=\"http://www.w3.org/2000/svg\" height=\"24px\" viewBox=\"0 -960 960 960\">\n",
              "    <path d=\"M120-120v-720h720v720H120Zm60-500h600v-160H180v160Zm220 220h160v-160H400v160Zm0 220h160v-160H400v160ZM180-400h160v-160H180v160Zm440 0h160v-160H620v160ZM180-180h160v-160H180v160Zm440 0h160v-160H620v160Z\"/>\n",
              "  </svg>\n",
              "    </button>\n",
              "\n",
              "  <style>\n",
              "    .colab-df-container {\n",
              "      display:flex;\n",
              "      gap: 12px;\n",
              "    }\n",
              "\n",
              "    .colab-df-convert {\n",
              "      background-color: #E8F0FE;\n",
              "      border: none;\n",
              "      border-radius: 50%;\n",
              "      cursor: pointer;\n",
              "      display: none;\n",
              "      fill: #1967D2;\n",
              "      height: 32px;\n",
              "      padding: 0 0 0 0;\n",
              "      width: 32px;\n",
              "    }\n",
              "\n",
              "    .colab-df-convert:hover {\n",
              "      background-color: #E2EBFA;\n",
              "      box-shadow: 0px 1px 2px rgba(60, 64, 67, 0.3), 0px 1px 3px 1px rgba(60, 64, 67, 0.15);\n",
              "      fill: #174EA6;\n",
              "    }\n",
              "\n",
              "    .colab-df-buttons div {\n",
              "      margin-bottom: 4px;\n",
              "    }\n",
              "\n",
              "    [theme=dark] .colab-df-convert {\n",
              "      background-color: #3B4455;\n",
              "      fill: #D2E3FC;\n",
              "    }\n",
              "\n",
              "    [theme=dark] .colab-df-convert:hover {\n",
              "      background-color: #434B5C;\n",
              "      box-shadow: 0px 1px 3px 1px rgba(0, 0, 0, 0.15);\n",
              "      filter: drop-shadow(0px 1px 2px rgba(0, 0, 0, 0.3));\n",
              "      fill: #FFFFFF;\n",
              "    }\n",
              "  </style>\n",
              "\n",
              "    <script>\n",
              "      const buttonEl =\n",
              "        document.querySelector('#df-b463f3b8-7359-42c1-9e65-184778da4d54 button.colab-df-convert');\n",
              "      buttonEl.style.display =\n",
              "        google.colab.kernel.accessAllowed ? 'block' : 'none';\n",
              "\n",
              "      async function convertToInteractive(key) {\n",
              "        const element = document.querySelector('#df-b463f3b8-7359-42c1-9e65-184778da4d54');\n",
              "        const dataTable =\n",
              "          await google.colab.kernel.invokeFunction('convertToInteractive',\n",
              "                                                    [key], {});\n",
              "        if (!dataTable) return;\n",
              "\n",
              "        const docLinkHtml = 'Like what you see? Visit the ' +\n",
              "          '<a target=\"_blank\" href=https://colab.research.google.com/notebooks/data_table.ipynb>data table notebook</a>'\n",
              "          + ' to learn more about interactive tables.';\n",
              "        element.innerHTML = '';\n",
              "        dataTable['output_type'] = 'display_data';\n",
              "        await google.colab.output.renderOutput(dataTable, element);\n",
              "        const docLink = document.createElement('div');\n",
              "        docLink.innerHTML = docLinkHtml;\n",
              "        element.appendChild(docLink);\n",
              "      }\n",
              "    </script>\n",
              "  </div>\n",
              "\n",
              "\n",
              "<div id=\"df-46d77dae-0177-4227-9ebb-33b7fd14e9f0\">\n",
              "  <button class=\"colab-df-quickchart\" onclick=\"quickchart('df-46d77dae-0177-4227-9ebb-33b7fd14e9f0')\"\n",
              "            title=\"Suggest charts\"\n",
              "            style=\"display:none;\">\n",
              "\n",
              "<svg xmlns=\"http://www.w3.org/2000/svg\" height=\"24px\"viewBox=\"0 0 24 24\"\n",
              "     width=\"24px\">\n",
              "    <g>\n",
              "        <path d=\"M19 3H5c-1.1 0-2 .9-2 2v14c0 1.1.9 2 2 2h14c1.1 0 2-.9 2-2V5c0-1.1-.9-2-2-2zM9 17H7v-7h2v7zm4 0h-2V7h2v10zm4 0h-2v-4h2v4z\"/>\n",
              "    </g>\n",
              "</svg>\n",
              "  </button>\n",
              "\n",
              "<style>\n",
              "  .colab-df-quickchart {\n",
              "      --bg-color: #E8F0FE;\n",
              "      --fill-color: #1967D2;\n",
              "      --hover-bg-color: #E2EBFA;\n",
              "      --hover-fill-color: #174EA6;\n",
              "      --disabled-fill-color: #AAA;\n",
              "      --disabled-bg-color: #DDD;\n",
              "  }\n",
              "\n",
              "  [theme=dark] .colab-df-quickchart {\n",
              "      --bg-color: #3B4455;\n",
              "      --fill-color: #D2E3FC;\n",
              "      --hover-bg-color: #434B5C;\n",
              "      --hover-fill-color: #FFFFFF;\n",
              "      --disabled-bg-color: #3B4455;\n",
              "      --disabled-fill-color: #666;\n",
              "  }\n",
              "\n",
              "  .colab-df-quickchart {\n",
              "    background-color: var(--bg-color);\n",
              "    border: none;\n",
              "    border-radius: 50%;\n",
              "    cursor: pointer;\n",
              "    display: none;\n",
              "    fill: var(--fill-color);\n",
              "    height: 32px;\n",
              "    padding: 0;\n",
              "    width: 32px;\n",
              "  }\n",
              "\n",
              "  .colab-df-quickchart:hover {\n",
              "    background-color: var(--hover-bg-color);\n",
              "    box-shadow: 0 1px 2px rgba(60, 64, 67, 0.3), 0 1px 3px 1px rgba(60, 64, 67, 0.15);\n",
              "    fill: var(--button-hover-fill-color);\n",
              "  }\n",
              "\n",
              "  .colab-df-quickchart-complete:disabled,\n",
              "  .colab-df-quickchart-complete:disabled:hover {\n",
              "    background-color: var(--disabled-bg-color);\n",
              "    fill: var(--disabled-fill-color);\n",
              "    box-shadow: none;\n",
              "  }\n",
              "\n",
              "  .colab-df-spinner {\n",
              "    border: 2px solid var(--fill-color);\n",
              "    border-color: transparent;\n",
              "    border-bottom-color: var(--fill-color);\n",
              "    animation:\n",
              "      spin 1s steps(1) infinite;\n",
              "  }\n",
              "\n",
              "  @keyframes spin {\n",
              "    0% {\n",
              "      border-color: transparent;\n",
              "      border-bottom-color: var(--fill-color);\n",
              "      border-left-color: var(--fill-color);\n",
              "    }\n",
              "    20% {\n",
              "      border-color: transparent;\n",
              "      border-left-color: var(--fill-color);\n",
              "      border-top-color: var(--fill-color);\n",
              "    }\n",
              "    30% {\n",
              "      border-color: transparent;\n",
              "      border-left-color: var(--fill-color);\n",
              "      border-top-color: var(--fill-color);\n",
              "      border-right-color: var(--fill-color);\n",
              "    }\n",
              "    40% {\n",
              "      border-color: transparent;\n",
              "      border-right-color: var(--fill-color);\n",
              "      border-top-color: var(--fill-color);\n",
              "    }\n",
              "    60% {\n",
              "      border-color: transparent;\n",
              "      border-right-color: var(--fill-color);\n",
              "    }\n",
              "    80% {\n",
              "      border-color: transparent;\n",
              "      border-right-color: var(--fill-color);\n",
              "      border-bottom-color: var(--fill-color);\n",
              "    }\n",
              "    90% {\n",
              "      border-color: transparent;\n",
              "      border-bottom-color: var(--fill-color);\n",
              "    }\n",
              "  }\n",
              "</style>\n",
              "\n",
              "  <script>\n",
              "    async function quickchart(key) {\n",
              "      const quickchartButtonEl =\n",
              "        document.querySelector('#' + key + ' button');\n",
              "      quickchartButtonEl.disabled = true;  // To prevent multiple clicks.\n",
              "      quickchartButtonEl.classList.add('colab-df-spinner');\n",
              "      try {\n",
              "        const charts = await google.colab.kernel.invokeFunction(\n",
              "            'suggestCharts', [key], {});\n",
              "      } catch (error) {\n",
              "        console.error('Error during call to suggestCharts:', error);\n",
              "      }\n",
              "      quickchartButtonEl.classList.remove('colab-df-spinner');\n",
              "      quickchartButtonEl.classList.add('colab-df-quickchart-complete');\n",
              "    }\n",
              "    (() => {\n",
              "      let quickchartButtonEl =\n",
              "        document.querySelector('#df-46d77dae-0177-4227-9ebb-33b7fd14e9f0 button');\n",
              "      quickchartButtonEl.style.display =\n",
              "        google.colab.kernel.accessAllowed ? 'block' : 'none';\n",
              "    })();\n",
              "  </script>\n",
              "</div>\n",
              "\n",
              "  <div id=\"id_079e2ea3-9a67-4e02-b551-79a02a3bd88c\">\n",
              "    <style>\n",
              "      .colab-df-generate {\n",
              "        background-color: #E8F0FE;\n",
              "        border: none;\n",
              "        border-radius: 50%;\n",
              "        cursor: pointer;\n",
              "        display: none;\n",
              "        fill: #1967D2;\n",
              "        height: 32px;\n",
              "        padding: 0 0 0 0;\n",
              "        width: 32px;\n",
              "      }\n",
              "\n",
              "      .colab-df-generate:hover {\n",
              "        background-color: #E2EBFA;\n",
              "        box-shadow: 0px 1px 2px rgba(60, 64, 67, 0.3), 0px 1px 3px 1px rgba(60, 64, 67, 0.15);\n",
              "        fill: #174EA6;\n",
              "      }\n",
              "\n",
              "      [theme=dark] .colab-df-generate {\n",
              "        background-color: #3B4455;\n",
              "        fill: #D2E3FC;\n",
              "      }\n",
              "\n",
              "      [theme=dark] .colab-df-generate:hover {\n",
              "        background-color: #434B5C;\n",
              "        box-shadow: 0px 1px 3px 1px rgba(0, 0, 0, 0.15);\n",
              "        filter: drop-shadow(0px 1px 2px rgba(0, 0, 0, 0.3));\n",
              "        fill: #FFFFFF;\n",
              "      }\n",
              "    </style>\n",
              "    <button class=\"colab-df-generate\" onclick=\"generateWithVariable('df_N')\"\n",
              "            title=\"Generate code using this dataframe.\"\n",
              "            style=\"display:none;\">\n",
              "\n",
              "  <svg xmlns=\"http://www.w3.org/2000/svg\" height=\"24px\"viewBox=\"0 0 24 24\"\n",
              "       width=\"24px\">\n",
              "    <path d=\"M7,19H8.4L18.45,9,17,7.55,7,17.6ZM5,21V16.75L18.45,3.32a2,2,0,0,1,2.83,0l1.4,1.43a1.91,1.91,0,0,1,.58,1.4,1.91,1.91,0,0,1-.58,1.4L9.25,21ZM18.45,9,17,7.55Zm-12,3A5.31,5.31,0,0,0,4.9,8.1,5.31,5.31,0,0,0,1,6.5,5.31,5.31,0,0,0,4.9,4.9,5.31,5.31,0,0,0,6.5,1,5.31,5.31,0,0,0,8.1,4.9,5.31,5.31,0,0,0,12,6.5,5.46,5.46,0,0,0,6.5,12Z\"/>\n",
              "  </svg>\n",
              "    </button>\n",
              "    <script>\n",
              "      (() => {\n",
              "      const buttonEl =\n",
              "        document.querySelector('#id_079e2ea3-9a67-4e02-b551-79a02a3bd88c button.colab-df-generate');\n",
              "      buttonEl.style.display =\n",
              "        google.colab.kernel.accessAllowed ? 'block' : 'none';\n",
              "\n",
              "      buttonEl.onclick = () => {\n",
              "        google.colab.notebook.generateWithVariable('df_N');\n",
              "      }\n",
              "      })();\n",
              "    </script>\n",
              "  </div>\n",
              "\n",
              "    </div>\n",
              "  </div>\n"
            ],
            "application/vnd.google.colaboratory.intrinsic+json": {
              "type": "dataframe",
              "variable_name": "df_N",
              "summary": "{\n  \"name\": \"df_N\",\n  \"rows\": 3719,\n  \"fields\": [\n    {\n      \"column\": \"SMILES\",\n      \"properties\": {\n        \"dtype\": \"string\",\n        \"num_unique_values\": 3706,\n        \"samples\": [\n          \"Cc1ccccc1C(=O)C(C)CN1CCCCC1\",\n          \"CCOP(=O)(OCC)Oc1ccc(SC)c(C)c1\",\n          \"Clc1cc2c(oc3c(Cl)c(Cl)ccc32)c(Cl)c1Cl\"\n        ],\n        \"semantic_type\": \"\",\n        \"description\": \"\"\n      }\n    },\n    {\n      \"column\": \"pIC50\",\n      \"properties\": {\n        \"dtype\": \"number\",\n        \"std\": 0.7166663051546284,\n        \"min\": 0.0,\n        \"max\": 8.36,\n        \"num_unique_values\": 36,\n        \"samples\": [\n          0.01,\n          7.0,\n          7.52\n        ],\n        \"semantic_type\": \"\",\n        \"description\": \"\"\n      }\n    },\n    {\n      \"column\": \"mol\",\n      \"properties\": {\n        \"dtype\": \"string\",\n        \"num_unique_values\": 3719,\n        \"samples\": [\n          \"<rdkit.Chem.rdchem.Mol object at 0x7f59a29d0f90>\",\n          \"<rdkit.Chem.rdchem.Mol object at 0x7f59a31185f0>\",\n          \"<rdkit.Chem.rdchem.Mol object at 0x7f59a3277450>\"\n        ],\n        \"semantic_type\": \"\",\n        \"description\": \"\"\n      }\n    },\n    {\n      \"column\": \"num_atoms\",\n      \"properties\": {\n        \"dtype\": \"number\",\n        \"std\": 2,\n        \"min\": 12,\n        \"max\": 20,\n        \"num_unique_values\": 9,\n        \"samples\": [\n          15,\n          18,\n          13\n        ],\n        \"semantic_type\": \"\",\n        \"description\": \"\"\n      }\n    },\n    {\n      \"column\": \"logP\",\n      \"properties\": {\n        \"dtype\": \"number\",\n        \"std\": 1.2034863553462634,\n        \"min\": 2.1003,\n        \"max\": 9.4536,\n        \"num_unique_values\": 2627,\n        \"samples\": [\n          2.9031,\n          2.6958,\n          3.12312\n        ],\n        \"semantic_type\": \"\",\n        \"description\": \"\"\n      }\n    },\n    {\n      \"column\": \"max_degree\",\n      \"properties\": {\n        \"dtype\": \"number\",\n        \"std\": 0,\n        \"min\": 2,\n        \"max\": 4,\n        \"num_unique_values\": 3,\n        \"samples\": [\n          3,\n          4,\n          2\n        ],\n        \"semantic_type\": \"\",\n        \"description\": \"\"\n      }\n    }\n  ]\n}"
            }
          },
          "metadata": {},
          "execution_count": 26
        }
      ],
      "source": [
        "df_N"
      ]
    },
    {
      "cell_type": "code",
      "execution_count": null,
      "metadata": {
        "id": "03TUAAUFWze5"
      },
      "outputs": [],
      "source": [
        "train_df,test_df=train_test_split(df['SMILES'],test_size=0.1,shuffle=True , random_state=42)\n",
        "#train_df,test_df=train_test_split(df_N['SMILES'],test_size=0.1,shuffle=True , random_state=42)"
      ]
    },
    {
      "cell_type": "code",
      "execution_count": null,
      "metadata": {
        "colab": {
          "base_uri": "https://localhost:8080/",
          "height": 478
        },
        "id": "DnXe1btWwrmr",
        "outputId": "2000dd4d-33a6-436b-90b5-8fc7a25cd4f7"
      },
      "outputs": [
        {
          "output_type": "execute_result",
          "data": {
            "text/plain": [
              "13156                   c1ccc(Sc2nnc[nH]2)cc1\n",
              "12305         CCOc1ccc(S(I)=C(N(C)C)N(C)C)cc1\n",
              "3248             O=C(O)c1cccc([N+](=O)[O-])c1\n",
              "10233              COc1cc(Cc2cnc(N)nc2N)ccc1C\n",
              "13573               COc1ccc(C(=O)OCCN(C)C)cc1\n",
              "                         ...                 \n",
              "11420    O=C(O)CCCC1=NS(=O)(=O)c2cc(Br)ccc2N1\n",
              "11669                    COc1cccc(Cl)c1C(N)=O\n",
              "4135                     Oc1cccc(-c2ccccc2)c1\n",
              "15809        O=C1N=C(N2CCOCC2)CN1Cc1ccc(I)cc1\n",
              "15120               CCCc1nc(NC)nc(N2CCOCC2)n1\n",
              "Name: SMILES, Length: 6958, dtype: object"
            ],
            "text/html": [
              "<div>\n",
              "<style scoped>\n",
              "    .dataframe tbody tr th:only-of-type {\n",
              "        vertical-align: middle;\n",
              "    }\n",
              "\n",
              "    .dataframe tbody tr th {\n",
              "        vertical-align: top;\n",
              "    }\n",
              "\n",
              "    .dataframe thead th {\n",
              "        text-align: right;\n",
              "    }\n",
              "</style>\n",
              "<table border=\"1\" class=\"dataframe\">\n",
              "  <thead>\n",
              "    <tr style=\"text-align: right;\">\n",
              "      <th></th>\n",
              "      <th>SMILES</th>\n",
              "    </tr>\n",
              "  </thead>\n",
              "  <tbody>\n",
              "    <tr>\n",
              "      <th>13156</th>\n",
              "      <td>c1ccc(Sc2nnc[nH]2)cc1</td>\n",
              "    </tr>\n",
              "    <tr>\n",
              "      <th>12305</th>\n",
              "      <td>CCOc1ccc(S(I)=C(N(C)C)N(C)C)cc1</td>\n",
              "    </tr>\n",
              "    <tr>\n",
              "      <th>3248</th>\n",
              "      <td>O=C(O)c1cccc([N+](=O)[O-])c1</td>\n",
              "    </tr>\n",
              "    <tr>\n",
              "      <th>10233</th>\n",
              "      <td>COc1cc(Cc2cnc(N)nc2N)ccc1C</td>\n",
              "    </tr>\n",
              "    <tr>\n",
              "      <th>13573</th>\n",
              "      <td>COc1ccc(C(=O)OCCN(C)C)cc1</td>\n",
              "    </tr>\n",
              "    <tr>\n",
              "      <th>...</th>\n",
              "      <td>...</td>\n",
              "    </tr>\n",
              "    <tr>\n",
              "      <th>11420</th>\n",
              "      <td>O=C(O)CCCC1=NS(=O)(=O)c2cc(Br)ccc2N1</td>\n",
              "    </tr>\n",
              "    <tr>\n",
              "      <th>11669</th>\n",
              "      <td>COc1cccc(Cl)c1C(N)=O</td>\n",
              "    </tr>\n",
              "    <tr>\n",
              "      <th>4135</th>\n",
              "      <td>Oc1cccc(-c2ccccc2)c1</td>\n",
              "    </tr>\n",
              "    <tr>\n",
              "      <th>15809</th>\n",
              "      <td>O=C1N=C(N2CCOCC2)CN1Cc1ccc(I)cc1</td>\n",
              "    </tr>\n",
              "    <tr>\n",
              "      <th>15120</th>\n",
              "      <td>CCCc1nc(NC)nc(N2CCOCC2)n1</td>\n",
              "    </tr>\n",
              "  </tbody>\n",
              "</table>\n",
              "<p>6958 rows × 1 columns</p>\n",
              "</div><br><label><b>dtype:</b> object</label>"
            ]
          },
          "metadata": {},
          "execution_count": 28
        }
      ],
      "source": [
        "train_df"
      ]
    },
    {
      "cell_type": "code",
      "execution_count": null,
      "metadata": {
        "id": "DBr1uGIQtcWH"
      },
      "outputs": [],
      "source": [
        "def Graph_gen (m):\n",
        "  #G=nx.Graph()\n",
        "  molecule=Chem.MolFromSmiles(m)\n",
        "#  img=Draw.MolToImage(molecule)\n",
        "\n",
        " # for bond in molcule.GetBonds():\n",
        " #   G.add_edge(bond.GetBeginAtomIdx(),bond.GetEndAtomIdx())\n",
        "  G=nx.Graph(rdmolops.GetAdjacencyMatrix(molecule))\n",
        "\n",
        "\n",
        "  max_edges=int(len(G.nodes())*(len(G.nodes())-1)/2)\n",
        "  mask=np.ones(max_edges)\n",
        "  mask =np.pad(mask, (0,190-max_edges),mode='constant', constant_values=0)\n",
        "  adj=nx.adjacency_matrix(G).toarray()\n",
        "\n",
        "  bfs_nodes=list(nx.bfs_tree(G,source=random.randint(0,len(G.nodes())-1)))\n",
        "  #bfs_nodes=list(nx.bfs_tree(G,source=max( list(dict(G.degree())))))\n",
        "#  bfs_nodes=list(nx.bfs_tree(G,source=min( nx.betweenness_centrality(G),key=nx.betweenness_centrality(G).get)))\n",
        "  #print(bfs_nodes)\n",
        "  y_EOS=np.zeros(len(G.nodes()))\n",
        "  y_EOS[len(G.nodes())-1]=1\n",
        "  EOS_mask=np.ones(len(y_EOS))\n",
        "  EOS_mask=np.pad(EOS_mask,(0,20-len(EOS_mask)),mode='constant', constant_values=0)\n",
        "  y_EOS=np.pad(y_EOS, (0,20-len(y_EOS)),mode='constant', constant_values=-1)\n",
        "\n",
        "  x=[-1]\n",
        "  for i in range(len(bfs_nodes)-2) :\n",
        "      x.append(-1)\n",
        "      for node in bfs_nodes [i::-1]:\n",
        "\n",
        "            x.append(adj[bfs_nodes[i+2]][node])\n",
        "\n",
        "  y=[]\n",
        "  for i in range(len(bfs_nodes)-1) :\n",
        "    for node in bfs_nodes[:i+1]:\n",
        "      y.append(adj[bfs_nodes[i+1]][node])\n",
        "  #nx.draw(G)\n",
        "  x_padded=np.pad(np.array(x), (0,190-len(x)), mode='constant',constant_values=-1)\n",
        "  y_padded=np.pad(np.array(y), (0,190-len(y)), mode='constant',constant_values=-1)\n",
        "  return  x_padded,  mask, y_padded, y_EOS , EOS_mask\n",
        "  # ,max( list(dict(G.degree()).values())),img\n",
        "\n",
        "\n"
      ]
    },
    {
      "cell_type": "code",
      "execution_count": null,
      "metadata": {
        "colab": {
          "base_uri": "https://localhost:8080/"
        },
        "id": "1YaSFN5E9to4",
        "outputId": "7ba330d2-dbfb-4000-8027-1503750da1c7"
      },
      "outputs": [
        {
          "output_type": "execute_result",
          "data": {
            "text/plain": [
              "(array([-1, -1,  1, -1,  1,  0, -1,  0,  1,  0, -1,  0,  1,  0,  0, -1,  0,\n",
              "         0,  1,  0,  0, -1,  0,  1,  0,  0,  0,  0, -1,  0,  0,  1,  0,  0,\n",
              "         0,  0, -1,  0,  0,  1,  0,  0,  0,  0,  0, -1,  0,  0,  1,  0,  0,\n",
              "         0,  0,  0,  0, -1,  0,  0,  0,  1,  0,  0,  0,  0,  0,  0, -1,  0,\n",
              "         1,  0,  0,  0,  0,  0,  0,  0,  0,  0, -1,  0,  1,  1,  0,  0,  0,\n",
              "         0,  0,  0,  0,  0,  0, -1,  0,  0,  0,  0,  0,  0,  0,  0,  0,  0,\n",
              "         0,  0,  0, -1, -1, -1, -1, -1, -1, -1, -1, -1, -1, -1, -1, -1, -1,\n",
              "        -1, -1, -1, -1, -1, -1, -1, -1, -1, -1, -1, -1, -1, -1, -1, -1, -1,\n",
              "        -1, -1, -1, -1, -1, -1, -1, -1, -1, -1, -1, -1, -1, -1, -1, -1, -1,\n",
              "        -1, -1, -1, -1, -1, -1, -1, -1, -1, -1, -1, -1, -1, -1, -1, -1, -1,\n",
              "        -1, -1, -1, -1, -1, -1, -1, -1, -1, -1, -1, -1, -1, -1, -1, -1, -1,\n",
              "        -1, -1, -1]),\n",
              " array([1., 1., 1., 1., 1., 1., 1., 1., 1., 1., 1., 1., 1., 1., 1., 1., 1.,\n",
              "        1., 1., 1., 1., 1., 1., 1., 1., 1., 1., 1., 1., 1., 1., 1., 1., 1.,\n",
              "        1., 1., 1., 1., 1., 1., 1., 1., 1., 1., 1., 1., 1., 1., 1., 1., 1.,\n",
              "        1., 1., 1., 1., 1., 1., 1., 1., 1., 1., 1., 1., 1., 1., 1., 1., 1.,\n",
              "        1., 1., 1., 1., 1., 1., 1., 1., 1., 1., 1., 1., 1., 1., 1., 1., 1.,\n",
              "        1., 1., 1., 1., 1., 1., 1., 1., 1., 1., 1., 1., 1., 1., 1., 1., 1.,\n",
              "        1., 1., 1., 0., 0., 0., 0., 0., 0., 0., 0., 0., 0., 0., 0., 0., 0.,\n",
              "        0., 0., 0., 0., 0., 0., 0., 0., 0., 0., 0., 0., 0., 0., 0., 0., 0.,\n",
              "        0., 0., 0., 0., 0., 0., 0., 0., 0., 0., 0., 0., 0., 0., 0., 0., 0.,\n",
              "        0., 0., 0., 0., 0., 0., 0., 0., 0., 0., 0., 0., 0., 0., 0., 0., 0.,\n",
              "        0., 0., 0., 0., 0., 0., 0., 0., 0., 0., 0., 0., 0., 0., 0., 0., 0.,\n",
              "        0., 0., 0.]),\n",
              " array([ 1,  1,  0,  0,  1,  0,  0,  1,  0,  0,  0,  0,  1,  0,  0,  0,  0,\n",
              "         1,  0,  0,  0,  0,  0,  0,  0,  1,  0,  0,  0,  0,  0,  0,  1,  0,\n",
              "         0,  0,  0,  0,  0,  0,  0,  1,  0,  0,  0,  0,  0,  0,  0,  0,  0,\n",
              "         1,  0,  0,  0,  0,  0,  0,  0,  0,  0,  1,  0,  0,  0,  0,  0,  0,\n",
              "         0,  0,  0,  0,  0,  0,  0,  1,  0,  0,  0,  0,  0,  0,  0,  0,  0,\n",
              "         0,  0,  1,  1,  0,  0,  0,  0,  0,  0,  0,  0,  0,  0,  0,  0,  0,\n",
              "         0,  0,  1, -1, -1, -1, -1, -1, -1, -1, -1, -1, -1, -1, -1, -1, -1,\n",
              "        -1, -1, -1, -1, -1, -1, -1, -1, -1, -1, -1, -1, -1, -1, -1, -1, -1,\n",
              "        -1, -1, -1, -1, -1, -1, -1, -1, -1, -1, -1, -1, -1, -1, -1, -1, -1,\n",
              "        -1, -1, -1, -1, -1, -1, -1, -1, -1, -1, -1, -1, -1, -1, -1, -1, -1,\n",
              "        -1, -1, -1, -1, -1, -1, -1, -1, -1, -1, -1, -1, -1, -1, -1, -1, -1,\n",
              "        -1, -1, -1]),\n",
              " array([ 0.,  0.,  0.,  0.,  0.,  0.,  0.,  0.,  0.,  0.,  0.,  0.,  0.,\n",
              "         0.,  1., -1., -1., -1., -1., -1.]),\n",
              " array([1., 1., 1., 1., 1., 1., 1., 1., 1., 1., 1., 1., 1., 1., 1., 0., 0.,\n",
              "        0., 0., 0.]))"
            ]
          },
          "metadata": {},
          "execution_count": 30
        }
      ],
      "source": [
        "Graph_gen(df_N['SMILES'].iloc[160])"
      ]
    },
    {
      "cell_type": "code",
      "execution_count": null,
      "metadata": {
        "colab": {
          "base_uri": "https://localhost:8080/",
          "height": 467
        },
        "id": "TdXzUFzq-0gi",
        "outputId": "04c9facf-ede6-4609-f21e-64668ad5ee3f"
      },
      "outputs": [
        {
          "output_type": "execute_result",
          "data": {
            "text/plain": [
              "<Axes: ylabel='Frequency'>"
            ]
          },
          "metadata": {},
          "execution_count": 31
        },
        {
          "output_type": "display_data",
          "data": {
            "text/plain": [
              "<Figure size 640x480 with 1 Axes>"
            ],
            "image/png": "[encoded data removed]"
          },
          "metadata": {}
        }
      ],
      "source": [
        "df_N['num_atoms'].plot(kind='hist')"
      ]
    },
    {
      "cell_type": "code",
      "execution_count": null,
      "metadata": {
        "id": "biqRlOoE4uEl"
      },
      "outputs": [],
      "source": [
        "#M.index(max(M))"
      ]
    },
    {
      "cell_type": "code",
      "execution_count": null,
      "metadata": {
        "colab": {
          "base_uri": "https://localhost:8080/"
        },
        "id": "10syC0wV5anF",
        "outputId": "3df6f8da-8361-4c96-a306-8cd4176766ac"
      },
      "outputs": [
        {
          "output_type": "execute_result",
          "data": {
            "text/plain": [
              "(array([-1, -1,  0, -1,  1,  0, -1,  0,  1,  0, -1,  0,  1,  0,  0, -1,  0,\n",
              "         0,  1,  0,  0, -1,  0,  1,  0,  0,  0,  0, -1,  0,  0,  1,  0,  0,\n",
              "         0,  0, -1,  0,  0,  0,  1,  0,  0,  0,  0, -1,  0,  0,  0,  1,  0,\n",
              "         0,  0,  0,  0, -1,  0,  0,  0,  0,  0,  0,  0,  0,  0,  0, -1, -1,\n",
              "        -1, -1, -1, -1, -1, -1, -1, -1, -1, -1, -1, -1, -1, -1, -1, -1, -1,\n",
              "        -1, -1, -1, -1, -1, -1, -1, -1, -1, -1, -1, -1, -1, -1, -1, -1, -1,\n",
              "        -1, -1, -1, -1, -1, -1, -1, -1, -1, -1, -1, -1, -1, -1, -1, -1, -1,\n",
              "        -1, -1, -1, -1, -1, -1, -1, -1, -1, -1, -1, -1, -1, -1, -1, -1, -1,\n",
              "        -1, -1, -1, -1, -1, -1, -1, -1, -1, -1, -1, -1, -1, -1, -1, -1, -1,\n",
              "        -1, -1, -1, -1, -1, -1, -1, -1, -1, -1, -1, -1, -1, -1, -1, -1, -1,\n",
              "        -1, -1, -1, -1, -1, -1, -1, -1, -1, -1, -1, -1, -1, -1, -1, -1, -1,\n",
              "        -1, -1, -1]),\n",
              " array([1., 1., 1., 1., 1., 1., 1., 1., 1., 1., 1., 1., 1., 1., 1., 1., 1.,\n",
              "        1., 1., 1., 1., 1., 1., 1., 1., 1., 1., 1., 1., 1., 1., 1., 1., 1.,\n",
              "        1., 1., 1., 1., 1., 1., 1., 1., 1., 1., 1., 1., 1., 1., 1., 1., 1.,\n",
              "        1., 1., 1., 1., 1., 1., 1., 1., 1., 1., 1., 1., 1., 1., 1., 0., 0.,\n",
              "        0., 0., 0., 0., 0., 0., 0., 0., 0., 0., 0., 0., 0., 0., 0., 0., 0.,\n",
              "        0., 0., 0., 0., 0., 0., 0., 0., 0., 0., 0., 0., 0., 0., 0., 0., 0.,\n",
              "        0., 0., 0., 0., 0., 0., 0., 0., 0., 0., 0., 0., 0., 0., 0., 0., 0.,\n",
              "        0., 0., 0., 0., 0., 0., 0., 0., 0., 0., 0., 0., 0., 0., 0., 0., 0.,\n",
              "        0., 0., 0., 0., 0., 0., 0., 0., 0., 0., 0., 0., 0., 0., 0., 0., 0.,\n",
              "        0., 0., 0., 0., 0., 0., 0., 0., 0., 0., 0., 0., 0., 0., 0., 0., 0.,\n",
              "        0., 0., 0., 0., 0., 0., 0., 0., 0., 0., 0., 0., 0., 0., 0., 0., 0.,\n",
              "        0., 0., 0.]),\n",
              " array([ 1,  0,  1,  0,  1,  0,  0,  1,  0,  0,  0,  0,  1,  0,  0,  0,  0,\n",
              "         1,  0,  0,  0,  0,  0,  0,  0,  1,  0,  0,  0,  0,  0,  0,  1,  0,\n",
              "         0,  0,  0,  0,  0,  0,  1,  0,  0,  0,  0,  0,  0,  0,  0,  0,  1,\n",
              "         0,  0,  0,  0,  0,  0,  0,  0,  0,  0,  0,  0,  0,  0,  1, -1, -1,\n",
              "        -1, -1, -1, -1, -1, -1, -1, -1, -1, -1, -1, -1, -1, -1, -1, -1, -1,\n",
              "        -1, -1, -1, -1, -1, -1, -1, -1, -1, -1, -1, -1, -1, -1, -1, -1, -1,\n",
              "        -1, -1, -1, -1, -1, -1, -1, -1, -1, -1, -1, -1, -1, -1, -1, -1, -1,\n",
              "        -1, -1, -1, -1, -1, -1, -1, -1, -1, -1, -1, -1, -1, -1, -1, -1, -1,\n",
              "        -1, -1, -1, -1, -1, -1, -1, -1, -1, -1, -1, -1, -1, -1, -1, -1, -1,\n",
              "        -1, -1, -1, -1, -1, -1, -1, -1, -1, -1, -1, -1, -1, -1, -1, -1, -1,\n",
              "        -1, -1, -1, -1, -1, -1, -1, -1, -1, -1, -1, -1, -1, -1, -1, -1, -1,\n",
              "        -1, -1, -1]),\n",
              " array([ 0.,  0.,  0.,  0.,  0.,  0.,  0.,  0.,  0.,  0.,  0.,  1., -1.,\n",
              "        -1., -1., -1., -1., -1., -1., -1.]),\n",
              " array([1., 1., 1., 1., 1., 1., 1., 1., 1., 1., 1., 1., 0., 0., 0., 0., 0.,\n",
              "        0., 0., 0.]))"
            ]
          },
          "metadata": {},
          "execution_count": 32
        }
      ],
      "source": [
        "\n",
        "Graph_gen(df['SMILES'].iloc[718])"
      ]
    },
    {
      "cell_type": "code",
      "execution_count": null,
      "metadata": {
        "id": "NkRK2MltUpoH"
      },
      "outputs": [],
      "source": [
        "class Multiple_GRU_layer2 (tf.keras.layers.Layer):\n",
        "  def __init__(self,units_list, num_cells):\n",
        "    super(Multiple_GRU_layer2,self).__init__()\n",
        "    self.units_list=units_list\n",
        "    self.num_cells=num_cells\n",
        "    self.gru_cells=[tf.keras.layers.GRUCell(self.units_list[i]) for i in range(self.num_cells)]\n",
        "\n",
        "  def  build (self, input_shapes):\n",
        "\n",
        "       self.L01T=self.add_weight (name='01T',\n",
        "                                      shape=(self.units_list[1],self.units_list[0]),\n",
        "                                      initializer='glorot_uniform',\n",
        "                                      trainable=True)\n",
        "       self.L10T=self.add_weight(name='10T',\n",
        "                                      shape=(self.units_list[0],self.units_list[1]),\n",
        "                                      initializer='glorot_uniform',\n",
        "                                      trainable=True)\n",
        "      # self.L23T=self.add_weight(name='20T',\n",
        "                   #                   shape=(self.units_list[3],self.units_list[2]),\n",
        "                   #                   initializer='glorot_uniform',\n",
        "                   #                   trainable=True)\n",
        "      # self.L30T=self.add_weight(name='20T',\n",
        "                   #                   shape=(self.units_list[0],self.units_list[3]),\n",
        "                   #                   initializer='glorot_uniform',\n",
        "                   #                   trainable=True)\n",
        "     #  self.LT=[self.L01T,self.L12T, self.L23T, self.L30T]\n",
        "\n",
        "       self.LT=[self.L01T,self.L10T]\n",
        "  def call (self, inputs ):\n",
        "    input, state=inputs\n",
        "    output=input\n",
        "\n",
        "    for i in range(self.num_cells):\n",
        "         output,state=self.gru_cells[i](output, state)\n",
        "         state=tf.transpose(tf.matmul(self.LT[i],tf.transpose(state)))\n",
        "    return output,state\n",
        "\n",
        "\n",
        "\n",
        "\n"
      ]
    },
    {
      "cell_type": "code",
      "execution_count": null,
      "metadata": {
        "id": "XsLX-7Old6dj"
      },
      "outputs": [],
      "source": [
        "class Multiple_GRU_layer (tf.keras.layers.Layer):\n",
        "  def __init__(self,units_list, num_cells):\n",
        "    super(Multiple_GRU_layer,self).__init__()\n",
        "    self.units_list=units_list\n",
        "    self.num_cells=num_cells\n",
        "    self.gru_cells=[tf.keras.layers.GRUCell(self.units_list[i]) for i in range(self.num_cells)]\n",
        "\n",
        "\n",
        "\n",
        "  def call (self, inputs ):\n",
        "    input, state=inputs\n",
        "    output=input\n",
        "\n",
        "    for i in range(self.num_cells):\n",
        "         output,state=self.gru_cells[i](output, state)\n",
        "    return output,state\n",
        "\n"
      ]
    },
    {
      "cell_type": "code",
      "execution_count": 456,
      "metadata": {
        "id": "Ts6PsdBhrz2G"
      },
      "outputs": [],
      "source": [
        "class GRNN_layer(tf.keras.Model):\n",
        "  def __init__(self, max_nodes, node_units_list, edge_units_list,num_cells_nodes, num_cells_edges):\n",
        "    super(GRNN_layer,self).__init__()\n",
        "    #self.units=units\n",
        "    self.max_nodes=max_nodes\n",
        "    self.max_edges=tf.cast(max_nodes*(max_nodes-1)/2, tf.int32)\n",
        "    self.node_units_list=node_units_list\n",
        "    self.edge_units_list=edge_units_list\n",
        "    self.num_cells_nodes=num_cells_nodes\n",
        "    self.num_cells_edges=num_cells_edges\n",
        "    #self.GRU_nodes=tf.keras.layers.GRUCell(units)\n",
        "    self.GRU_nodes=Multiple_GRU_layer(self.node_units_list, self.num_cells_nodes)\n",
        "    #self.GRU_edges=tf.keras.layers.GRUCell(units)\n",
        "    self.GRU_edges=Multiple_GRU_layer(self.edge_units_list, self.num_cells_edges)\n",
        "\n",
        "    self.dense_edges_1=tf.keras.layers.Dense(8,activation='relu')\n",
        "   # self.dense_edges_12=tf.keras.layers.Dense(8,activation='relu')\n",
        "\n",
        "    self.dense_edges_2=tf.keras.layers.Dense(1,activation='sigmoid')\n",
        "\n",
        "    #self.dense_EOS_1=tf.keras.layers.Dense(8,activation='relu')\n",
        "    self.dense_EOS_2=tf.keras.layers.Dense(1,activation='sigmoid')\n",
        "\n",
        "  def build(self, input_shapes):\n",
        "        self.LT1= self.add_weight(name='node2edgeT',\n",
        "                                      shape=(self.edge_units_list[0],self.node_units_list[self.num_cells_nodes-1]),\n",
        "                                      initializer='glorot_uniform',\n",
        "                                      trainable=True)\n",
        "        self.LT2= self.add_weight(name='edge2nodeT',\n",
        "                                      shape=(self.node_units_list[self.num_cells_nodes-1],self.edge_units_list[0]),\n",
        "                                      initializer='glorot_uniform',\n",
        "                                      trainable=True)\n",
        "\n",
        "\n",
        "  def call (self, inputs ,training ):\n",
        "\n",
        "    if training ==True:\n",
        "\n",
        "\n",
        "      batch_size=tf.shape(inputs)[0]\n",
        "\n",
        "      SOS_node=tf.zeros((batch_size,self.node_units_list[0]))\n",
        "      node_level_input=SOS_node\n",
        "      node_level_H=tf.zeros((batch_size,self.node_units_list[0]))\n",
        "      model_output=tf.TensorArray(size=tf.shape(inputs)[1],element_shape=(tf.shape(inputs)[0],), dtype=tf.float32)\n",
        "      EOS_matrix=tf.TensorArray(size=20,element_shape=(tf.shape(inputs)[0],),dtype=tf.float32)\n",
        "\n",
        "      iteration_output_degrees=tf.TensorArray(size=20,element_shape=(batch_size,1), dtype=tf.float32)\n",
        "\n",
        "\n",
        "      for i in  range(self.max_nodes) :\n",
        "\n",
        "          node_level_output,node_level_H=self.GRU_nodes([node_level_input, node_level_H])\n",
        "          edge_level_H=tf.transpose(tf.matmul(self.LT1,tf.transpose(node_level_output)))\n",
        "          #EOS_values_1=self.dense_EOS_1(node_level_output)\n",
        "          EOS_values_2=self.dense_EOS_2(node_level_output)\n",
        "\n",
        "          EOS_values=tf.reshape(EOS_values_2,[batch_size])\n",
        "          EOS_matrix=EOS_matrix.write(i,EOS_values)\n",
        "\n",
        "          iteration_output_edge_exist=tf.zeros([batch_size,1],tf.float32)\n",
        "          for j in range(i+1):\n",
        "\n",
        "                edge_level_input=inputs[:,i+j]\n",
        "                edge_level_input=tf.cast(edge_level_input,tf.float32)\n",
        "                edge_level_input=tf.reshape(edge_level_input, [batch_size,1])\n",
        "\n",
        "\n",
        "                edge_level_output,edge_level_H=self.GRU_edges([edge_level_input,edge_level_H])\n",
        "                edge_level_output_f1=self.dense_edges_1(edge_level_output)\n",
        "            #edge_level_output_f12=self.dense_edges_12(edge_level_output_f1)\n",
        "\n",
        "                edge_level_output_f2=self.dense_edges_2(edge_level_output_f1)\n",
        "                edge_level_output_f=tf.reshape(edge_level_output_f2, [batch_size])\n",
        "                model_output=model_output.write(i+j,edge_level_output_f)\n",
        "\n",
        "                edge_level_output_P=np.random.binomial(1,p=edge_level_output_f)\n",
        "            #prin,t(edge_level_output_P)\n",
        "                edge_level_output_P=tf.reshape(edge_level_output_P, [batch_size,1])\n",
        "\n",
        "          #  print(edge_level_output_P)\n",
        "            #edge_level_output_P=tf.reduce_sum(edge_level_output_P,0)\n",
        "            #print(edge_level_output_P)\n",
        "            #print(tf.cast(tf.equal(edge_level_output_P,0), tf.float32))\n",
        "\n",
        "\n",
        "                iteration_output_edge_exist=iteration_output_edge_exist+tf.cast(edge_level_output_P,tf.float32)\n",
        "            #iteration_output_degrees.append(tf.cast(tf.nn.relu(edge_level_output_P-4), tf.float32)+tf.cast(tf.equal(edge_level_output_P,0), tf.float32))\n",
        "\n",
        "           # print(tf.cast(tf.nn.relu(edge_level_output_P-4), tf.float32)+tf.cast(tf.equal(edge_level_output_P,0), tf.float32))\n",
        "\n",
        "          node_level_input=tf.transpose(tf.matmul(self.LT2,tf.transpose(edge_level_H)))\n",
        "        #  print(tf.constant(iteration_output_edge_exist),shape=())\n",
        "         # output_edges=tf.reduce_sum(iteration_output_edge_exist,0)\n",
        "         # print(output_edges)\n",
        "          iteration_output_degrees=iteration_output_degrees.write(i,iteration_output_edge_exist)\n",
        "\n",
        "           #(tf.cast(tf.equal(edge_level_output_P,0), tf.float32)+tf.cast(tf.nn.relu(edge_level_output_P-4), tf.float32))\n",
        "\n",
        "      model_output=model_output.stack()\n",
        "      EOS_matrix=EOS_matrix.stack()\n",
        "      return model_output , EOS_matrix ,tf.reshape(iteration_output_degrees.stack(),[20,batch_size])\n",
        "\n",
        "\n",
        "    if training !=True :\n",
        "      i =1\n",
        "      model_output=[]\n",
        "      SOS_node=tf.zeros((1,self.node_units_list[0]))\n",
        "      node_level_input=SOS_node\n",
        "      node_level_H=tf.zeros((1,self.node_units_list[0]))\n",
        "\n",
        "      while True :\n",
        "        node_level_output,node_level_H=self.GRU_nodes([node_level_input, node_level_H])\n",
        "        #EOS_1 = self.dense_EOS_1(node_level_output)\n",
        "        EOS =self.dense_EOS_2(node_level_output)\n",
        "\n",
        "        if EOS[0,0].numpy() >0.3:\n",
        "\n",
        "                break\n",
        "        edge_level_H=tf.transpose(tf.matmul(self.LT1,tf.transpose(node_level_output)))\n",
        "        edge_level_input=tf.constant(-1, tf.float32)\n",
        "\n",
        "       #EOS = self.dense_EOS(edge_level_output)\n",
        "       #if EOS[0,0].numpy() >0.5 :\n",
        "       #         break\n",
        "        iteration_output=[]\n",
        "        for j in range(i):\n",
        "            edge_level_input=tf.reshape(edge_level_input,[1,1])\n",
        "            #print(edge_level_input)\n",
        "            edge_level_output,edge_level_H=self.GRU_edges([edge_level_input,edge_level_H])\n",
        "            #print(edge_level_output)\n",
        "            #print(eedge_level_H)\n",
        "            edge_level_output_f1=self.dense_edges_1(edge_level_output)\n",
        "            edge_level_output_P=self.dense_edges_2(edge_level_output_f1)\n",
        "            edge_level_output_f=np.random.binomial(1,p=edge_level_output_P)\n",
        "            iteration_output.append(edge_level_output_f)\n",
        "            edge_level_input=tf.cast(edge_level_output_f, tf.float32)\n",
        "        model_output.append(iteration_output)\n",
        "        node_level_input=tf.transpose(tf.matmul(self.LT2,tf.transpose(edge_level_H)))\n",
        "        i=i+1\n",
        "\n",
        "      return model_output"
      ]
    },
    {
      "cell_type": "code",
      "execution_count": 505,
      "metadata": {
        "id": "e9imEsbbPQyT"
      },
      "outputs": [],
      "source": [
        "#model=GRNN_layer( max_nodes=20, node_units_list=[64,64,64],edge_units_list=[7,7,7],num_cells_nodes=3,num_cells_edges=3)\n",
        "#model=GRNN_layer( max_nodes=15, node_units_list=[32,32,32],edge_units_list=[7,7,7],num_cells_nodes=3,num_cells_edges=3)\n",
        "#model=GRNN_layer( max_nodes=20, node_units_list=[80,80,80,80],edge_units_list=[40,40,40,40],num_cells_nodes=4,num_cells_edges=4)\n",
        "model=GRNN_layer( max_nodes=20, node_units_list=[80,80,80,80],edge_units_list=[20,20,20,20],num_cells_nodes=4,num_cells_edges=4) #intersting results\n",
        "\n",
        "\n",
        "#loss_f=tf.keras.losses.BinaryCrossentropy(from_logits=False,reduction=tf.keras.losses.Reduction.NONE)\n"
      ]
    },
    {
      "cell_type": "code",
      "execution_count": 506,
      "metadata": {
        "id": "UiKSGA6hjAmb"
      },
      "outputs": [],
      "source": [
        "def loss_f (y_true , y_preds):\n",
        "   bce= -y_true*tf.math.log(y_preds+1e-7)-(1-y_true)*tf.math.log(1-y_preds+1e-7)\n",
        "   return bce"
      ]
    },
    {
      "cell_type": "code",
      "execution_count": 507,
      "metadata": {
        "id": "RDogUheDhzbI"
      },
      "outputs": [],
      "source": [
        "#def loss_f2 (y_true , y_preds):\n",
        "  # weights=y_true *1.7+(1-y_true)*1\n",
        "  # bce=-y_true*tf.math.log(y_preds+1e-7)-(1-y_true)*tf.math.log(1-y_preds+1e-7)\n",
        "  # return bce *weights"
      ]
    },
    {
      "cell_type": "code",
      "execution_count": 508,
      "metadata": {
        "id": "Y6O0OTyIkqlX"
      },
      "outputs": [],
      "source": [
        "rates=[0.0007]\n",
        "#1 0.0007 #0.0002  good results till here,0.00008 not better ,0.00002"
      ]
    },
    {
      "cell_type": "code",
      "execution_count": 509,
      "metadata": {
        "id": "BGOaRnX9kd7Y"
      },
      "outputs": [],
      "source": [
        "optimizer_list=[ tf.keras.optimizers.Adam(learning_rate=rate) for rate in rates]"
      ]
    },
    {
      "cell_type": "code",
      "execution_count": 510,
      "metadata": {
        "id": "LB5vFDOPMzog"
      },
      "outputs": [],
      "source": [
        "def degree_loss_1(output_degrees):\n",
        "\n",
        "    return tf.square(tf.nn.relu(output_degrees-4))"
      ]
    },
    {
      "cell_type": "code",
      "execution_count": 511,
      "metadata": {
        "id": "Ye518pcTX_8I"
      },
      "outputs": [],
      "source": [
        "\n",
        "def degree_loss_2(output_degrees):\n",
        "   return tf.cast(tf.equal(output_degrees,0), tf.float32)"
      ]
    },
    {
      "cell_type": "code",
      "execution_count": 512,
      "metadata": {
        "id": "ugzC-jIMtxD-"
      },
      "outputs": [],
      "source": [
        "num_epochs=len(rates)#3,2\n",
        "batch_size=10\n",
        "#batch_size=500\n",
        "loss_list=[]\n",
        "edge_loss_list=[]\n",
        "train_datax=train_df[:2000]\n",
        "for epoch in range(num_epochs):\n",
        "    optimizer=optimizer_list[epoch]\n",
        "    perm = np.random.permutation(len(train_datax))\n",
        "    train_data=train_datax.iloc[perm]\n",
        "    num_batches = len(train_data) // batch_size\n",
        "    for i in range(num_batches):\n",
        "        start_index = int(i * batch_size)\n",
        "        end_index = int(start_index + batch_size)\n",
        "        x=train_data.iloc[start_index: end_index].apply(Graph_gen)\n",
        "     #  x=train_data.sample(batch_size).apply(Graph_gen)\n",
        "        graph_seq=np.array([x.iloc[j][0] for j in range(batch_size)])\n",
        "        mask=np.array([x.iloc[j][1] for j in range(batch_size)])\n",
        "        y=np.array([x.iloc[j][2] for j in range(batch_size)])\n",
        "        y_EOS=np.array([x.iloc[j][3] for j in range(batch_size)])\n",
        "        EOS_mask=np.array([x.iloc[j][4] for j in range(batch_size)])\n",
        "\n",
        "        #f_mask=mask\n",
        "        #f_EOS_mask=EOS_mask\n",
        "        f_mask=tf.cast(tf.divide(mask, tf.tile(tf.reduce_sum(mask, axis=1, keepdims=True),[1,190])), tf.float32)\n",
        "        f_EOS_mask=tf.cast(tf.divide(EOS_mask, tf.tile(tf.reduce_sum(EOS_mask, axis=1, keepdims=True),[1,20])), tf.float32)\n",
        "        with tf.GradientTape() as tape:\n",
        "            logits, EOS_preds , degree_seq = model(graph_seq, training=True)\n",
        "            edge_loss=tf.reduce_sum(tf.multiply(loss_f(y,tf.transpose(logits)),f_mask))\n",
        "#            loss = edge_loss+tf.reduce_sum(tf.multiply(loss_f(y_EOS,tf.transpose(EOS_preds)),f_EOS_mask))+tf.reduce_sum(tf.transpose(degree_loss_1(degree_seq)))/10+tf.reduce_sum(degree_loss_2(degree_seq))/20\n",
        "            loss = edge_loss+tf.reduce_sum(tf.multiply(loss_f(y_EOS,tf.transpose(EOS_preds)),f_EOS_mask))+10*tf.reduce_sum(tf.multiply(f_EOS_mask,tf.transpose(degree_loss_1(degree_seq))))+2*tf.reduce_sum(tf.multiply(f_EOS_mask,tf.transpose(degree_loss_2(degree_seq))))\n",
        "\n",
        "            edge_loss_list.append(edge_loss)\n",
        "\n",
        "            loss_list.append(loss/batch_size)\n",
        "        gradients = tape.gradient(loss, model.trainable_variables)\n",
        "       # clipped_gradients=[tf.clip_by_value(grad, clip_value_max=1, clip_value_min=-1) for grad in gradients]\n",
        "\n",
        "        optimizer.apply_gradients(zip(gradients, model.trainable_variables))"
      ]
    },
    {
      "cell_type": "code",
      "execution_count": 514,
      "metadata": {
        "id": "keufPFqe0B_f"
      },
      "outputs": [],
      "source": [
        "def mole_gen(x_seq):\n",
        "   num_nodes=len(x_seq)+1\n",
        "   x=np.zeros((num_nodes, num_nodes))\n",
        "   for i in range(num_nodes-1):\n",
        "      t=0\n",
        "      for j in range(i,-1, -1):\n",
        "        x[j,i+1]=x_seq[i][t]\n",
        "        x[i+1,j]=x_seq[i][t]\n",
        "        t=t+1\n",
        "   return x"
      ]
    },
    {
      "cell_type": "code",
      "source": [
        "plt.plot(loss_list)"
      ],
      "metadata": {
        "colab": {
          "base_uri": "https://localhost:8080/",
          "height": 467
        },
        "id": "AawPY9w-82gv",
        "outputId": "ce47a8d1-2cbd-49e2-cc92-c99a7ca8a864"
      },
      "execution_count": 515,
      "outputs": [
        {
          "output_type": "execute_result",
          "data": {
            "text/plain": [
              "[<matplotlib.lines.Line2D at 0x7e0b487689d0>]"
            ]
          },
          "metadata": {},
          "execution_count": 515
        },
        {
          "output_type": "display_data",
          "data": {
            "text/plain": [
              "<Figure size 640x480 with 1 Axes>"
            ],
            "image/png": "[encoded data removed]"
          },
          "metadata": {}
        }
      ]
    },
    {
      "cell_type": "code",
      "source": [
        "nx.draw_networkx(G,node_size=40,  node_color=c, with_labels=False)\n",
        "print(len(mol)+1)"
      ],
      "metadata": {
        "id": "i_pvlZ8sxO5o",
        "colab": {
          "base_uri": "https://localhost:8080/",
          "height": 443
        },
        "outputId": "5ec8535b-ba4b-48e8-bdf6-ac1574db24d9"
      },
      "execution_count": 494,
      "outputs": [
        {
          "output_type": "stream",
          "name": "stdout",
          "text": [
            "18\n"
          ]
        },
        {
          "output_type": "display_data",
          "data": {
            "text/plain": [
              "<Figure size 640x480 with 1 Axes>"
            ],
            "image/png": "[encoded data removed]"
          },
          "metadata": {}
        }
      ]
    },
    {
      "cell_type": "code",
      "source": [
        "nx.draw_networkx(G,node_size=40,  node_color=c, with_labels=False)\n",
        "print(len(mol)+1)"
      ],
      "metadata": {
        "colab": {
          "base_uri": "https://localhost:8080/",
          "height": 443
        },
        "id": "gV7-TJWRwYfz",
        "outputId": "4ddb90c2-50ba-461e-c833-78c5647aaed9"
      },
      "execution_count": null,
      "outputs": [
        {
          "output_type": "stream",
          "name": "stdout",
          "text": [
            "17\n"
          ]
        },
        {
          "output_type": "display_data",
          "data": {
            "text/plain": [
              "<Figure size 640x480 with 1 Axes>"
            ],
            "image/png": "[encoded data removed]"
          },
          "metadata": {}
        }
      ]
    },
    {
      "cell_type": "code",
      "source": [
        "nx.draw_networkx(G,node_size=40,  node_color=c, with_labels=False)\n",
        "print(len(mol)+1)"
      ],
      "metadata": {
        "colab": {
          "base_uri": "https://localhost:8080/",
          "height": 443
        },
        "id": "jJpeQ3gysj1d",
        "outputId": "22b9f603-bbcc-41a1-886b-67b6cb222bac"
      },
      "execution_count": null,
      "outputs": [
        {
          "output_type": "stream",
          "name": "stdout",
          "text": [
            "16\n"
          ]
        },
        {
          "output_type": "display_data",
          "data": {
            "text/plain": [
              "<Figure size 640x480 with 1 Axes>"
            ],
            "image/png": "[encoded data removed]"
          },
          "metadata": {}
        }
      ]
    },
    {
      "cell_type": "code",
      "source": [
        "mol=model([],training=False)\n",
        "mol_adj=mole_gen(mol)\n",
        "G=nx.from_numpy_array(mol_adj)\n",
        "c=[y for  (x,y) in list(G.degree())]\n",
        "nx.draw_networkx(G,node_size=40,  node_color=c, with_labels=False)\n",
        "print(len(mol)+1)"
      ],
      "metadata": {
        "colab": {
          "base_uri": "https://localhost:8080/",
          "height": 513
        },
        "id": "xEj9YDv4KfzF",
        "outputId": "1fea2b56-b5e7-41bc-d096-1e9fce1d8c74"
      },
      "execution_count": null,
      "outputs": [
        {
          "output_type": "stream",
          "name": "stdout",
          "text": [
            "17\n"
          ]
        },
        {
          "output_type": "stream",
          "name": "stderr",
          "text": [
            "<ipython-input-320-00bf49c8f652>:7: DeprecationWarning: Conversion of an array with ndim > 0 to a scalar is deprecated, and will error in future. Ensure you extract a single element from your array before performing this operation. (Deprecated NumPy 1.25.)\n",
            "  x[j,i+1]=x_seq[i][t]\n",
            "<ipython-input-320-00bf49c8f652>:8: DeprecationWarning: Conversion of an array with ndim > 0 to a scalar is deprecated, and will error in future. Ensure you extract a single element from your array before performing this operation. (Deprecated NumPy 1.25.)\n",
            "  x[i+1,j]=x_seq[i][t]\n"
          ]
        },
        {
          "output_type": "display_data",
          "data": {
            "text/plain": [
              "<Figure size 640x480 with 1 Axes>"
            ],
            "image/png": "[encoded data removed]"
          },
          "metadata": {}
        }
      ]
    },
    {
      "cell_type": "code",
      "source": [
        "mol=model([],training=False)\n",
        "mol_adj=mole_gen(mol)\n",
        "G=nx.from_numpy_array(mol_adj)\n",
        "c=[y for  (x,y) in list(G.degree())]\n",
        "nx.draw_networkx(G,node_size=40,  node_color=c, with_labels=False)\n",
        "print(len(mol)+1)"
      ],
      "metadata": {
        "colab": {
          "base_uri": "https://localhost:8080/",
          "height": 513
        },
        "id": "GZK0JW-nKpip",
        "outputId": "316869f4-eddb-4ca6-a397-b3206086bed8"
      },
      "execution_count": null,
      "outputs": [
        {
          "output_type": "stream",
          "name": "stdout",
          "text": [
            "17\n"
          ]
        },
        {
          "output_type": "stream",
          "name": "stderr",
          "text": [
            "<ipython-input-320-00bf49c8f652>:7: DeprecationWarning: Conversion of an array with ndim > 0 to a scalar is deprecated, and will error in future. Ensure you extract a single element from your array before performing this operation. (Deprecated NumPy 1.25.)\n",
            "  x[j,i+1]=x_seq[i][t]\n",
            "<ipython-input-320-00bf49c8f652>:8: DeprecationWarning: Conversion of an array with ndim > 0 to a scalar is deprecated, and will error in future. Ensure you extract a single element from your array before performing this operation. (Deprecated NumPy 1.25.)\n",
            "  x[i+1,j]=x_seq[i][t]\n"
          ]
        },
        {
          "output_type": "display_data",
          "data": {
            "text/plain": [
              "<Figure size 640x480 with 1 Axes>"
            ],
            "image/png": "[encoded data removed]"
          },
          "metadata": {}
        }
      ]
    },
    {
      "cell_type": "code",
      "source": [
        "nx.draw_networkx(G,node_size=40,  node_color=c, with_labels=False)\n",
        "print(len(mol)+1)"
      ],
      "metadata": {
        "colab": {
          "base_uri": "https://localhost:8080/",
          "height": 423
        },
        "id": "gIA-XKTQKtdV",
        "outputId": "0813ac89-cab4-433a-c5b5-6499275c6151"
      },
      "execution_count": null,
      "outputs": [
        {
          "output_type": "stream",
          "name": "stdout",
          "text": [
            "17\n"
          ]
        },
        {
          "output_type": "display_data",
          "data": {
            "text/plain": [
              "<Figure size 640x480 with 1 Axes>"
            ],
            "image/png": "[encoded data removed]"
          },
          "metadata": {}
        }
      ]
    },
    {
      "cell_type": "code",
      "source": [
        "mol=model([],training=False)\n",
        "mol_adj=mole_gen(mol)\n",
        "G=nx.from_numpy_array(mol_adj)\n",
        "c=[y for  (x,y) in list(G.degree())]\n",
        "nx.draw_networkx(G,node_size=40,  node_color=c, with_labels=False)\n",
        "print(len(mol)+1)"
      ],
      "metadata": {
        "colab": {
          "base_uri": "https://localhost:8080/",
          "height": 513
        },
        "id": "ojZQO8N0KyB0",
        "outputId": "e145ac3e-e919-40d8-d78c-876498f7023a"
      },
      "execution_count": null,
      "outputs": [
        {
          "output_type": "stream",
          "name": "stdout",
          "text": [
            "17\n"
          ]
        },
        {
          "output_type": "stream",
          "name": "stderr",
          "text": [
            "<ipython-input-320-00bf49c8f652>:7: DeprecationWarning: Conversion of an array with ndim > 0 to a scalar is deprecated, and will error in future. Ensure you extract a single element from your array before performing this operation. (Deprecated NumPy 1.25.)\n",
            "  x[j,i+1]=x_seq[i][t]\n",
            "<ipython-input-320-00bf49c8f652>:8: DeprecationWarning: Conversion of an array with ndim > 0 to a scalar is deprecated, and will error in future. Ensure you extract a single element from your array before performing this operation. (Deprecated NumPy 1.25.)\n",
            "  x[i+1,j]=x_seq[i][t]\n"
          ]
        },
        {
          "output_type": "display_data",
          "data": {
            "text/plain": [
              "<Figure size 640x480 with 1 Axes>"
            ],
            "image/png": "[encoded data removed]"
          },
          "metadata": {}
        }
      ]
    },
    {
      "cell_type": "code",
      "source": [
        "mol=model([],training=False)\n",
        "mol_adj=mole_gen(mol)\n",
        "G=nx.from_numpy_array(mol_adj)\n",
        "c=[y for  (x,y) in list(G.degree())]\n",
        "nx.draw_networkx(G,node_size=40,  node_color=c, with_labels=False)\n",
        "print(len(mol)+1)"
      ],
      "metadata": {
        "colab": {
          "base_uri": "https://localhost:8080/",
          "height": 513
        },
        "id": "QA_td8ScK76Z",
        "outputId": "92040f35-4b61-4cc7-bc32-5653e13dbd63"
      },
      "execution_count": null,
      "outputs": [
        {
          "output_type": "stream",
          "name": "stdout",
          "text": [
            "18\n"
          ]
        },
        {
          "output_type": "stream",
          "name": "stderr",
          "text": [
            "<ipython-input-320-00bf49c8f652>:7: DeprecationWarning: Conversion of an array with ndim > 0 to a scalar is deprecated, and will error in future. Ensure you extract a single element from your array before performing this operation. (Deprecated NumPy 1.25.)\n",
            "  x[j,i+1]=x_seq[i][t]\n",
            "<ipython-input-320-00bf49c8f652>:8: DeprecationWarning: Conversion of an array with ndim > 0 to a scalar is deprecated, and will error in future. Ensure you extract a single element from your array before performing this operation. (Deprecated NumPy 1.25.)\n",
            "  x[i+1,j]=x_seq[i][t]\n"
          ]
        },
        {
          "output_type": "display_data",
          "data": {
            "text/plain": [
              "<Figure size 640x480 with 1 Axes>"
            ],
            "image/png": "[encoded data removed]"
          },
          "metadata": {}
        }
      ]
    },
    {
      "cell_type": "code",
      "source": [
        "nx.draw_networkx(G,node_size=40,  node_color=c, with_labels=False)\n",
        "print(len(mol)+1)"
      ],
      "metadata": {
        "colab": {
          "base_uri": "https://localhost:8080/",
          "height": 423
        },
        "id": "TapbXf-ILAMq",
        "outputId": "3d8be3d1-f1de-49fb-db14-64782c55e9a5"
      },
      "execution_count": null,
      "outputs": [
        {
          "output_type": "stream",
          "name": "stdout",
          "text": [
            "17\n"
          ]
        },
        {
          "output_type": "display_data",
          "data": {
            "text/plain": [
              "<Figure size 640x480 with 1 Axes>"
            ],
            "image/png": "[encoded data removed]"
          },
          "metadata": {}
        }
      ]
    },
    {
      "cell_type": "code",
      "execution_count": null,
      "metadata": {
        "id": "zzteFKkCWHvf",
        "colab": {
          "base_uri": "https://localhost:8080/",
          "height": 513
        },
        "outputId": "543a6359-6c0c-4931-c0c3-00f3b6d83847"
      },
      "outputs": [
        {
          "output_type": "stream",
          "name": "stdout",
          "text": [
            "13\n"
          ]
        },
        {
          "output_type": "stream",
          "name": "stderr",
          "text": [
            "<ipython-input-203-00bf49c8f652>:7: DeprecationWarning: Conversion of an array with ndim > 0 to a scalar is deprecated, and will error in future. Ensure you extract a single element from your array before performing this operation. (Deprecated NumPy 1.25.)\n",
            "  x[j,i+1]=x_seq[i][t]\n",
            "<ipython-input-203-00bf49c8f652>:8: DeprecationWarning: Conversion of an array with ndim > 0 to a scalar is deprecated, and will error in future. Ensure you extract a single element from your array before performing this operation. (Deprecated NumPy 1.25.)\n",
            "  x[i+1,j]=x_seq[i][t]\n"
          ]
        },
        {
          "output_type": "display_data",
          "data": {
            "text/plain": [
              "<Figure size 640x480 with 1 Axes>"
            ],
            "image/png": "[encoded data removed]"
          },
          "metadata": {}
        }
      ],
      "source": [
        "mol=model([],training=False)\n",
        "mol_adj=mole_gen(mol)\n",
        "G=nx.from_numpy_array(mol_adj)\n",
        "c=[y for  (x,y) in list(G.degree())]\n",
        "nx.draw_networkx(G,node_size=40,  node_color=c, with_labels=False)\n",
        "print(len(mol)+1)"
      ]
    },
    {
      "cell_type": "code",
      "source": [
        "nx.draw_networkx(G,node_size=40,  node_color=c, with_labels=False)\n",
        "print(len(mol)+1)"
      ],
      "metadata": {
        "colab": {
          "base_uri": "https://localhost:8080/",
          "height": 423
        },
        "id": "Qti_XTSq7eJu",
        "outputId": "9f67620a-ed54-4e7f-b6d5-56ad65c29993"
      },
      "execution_count": null,
      "outputs": [
        {
          "output_type": "stream",
          "name": "stdout",
          "text": [
            "13\n"
          ]
        },
        {
          "output_type": "display_data",
          "data": {
            "text/plain": [
              "<Figure size 640x480 with 1 Axes>"
            ],
            "image/png": "[encoded data removed]"
          },
          "metadata": {}
        }
      ]
    },
    {
      "cell_type": "code",
      "execution_count": null,
      "metadata": {
        "colab": {
          "base_uri": "https://localhost:8080/",
          "height": 423
        },
        "id": "m9ElmRnaqaiK",
        "outputId": "5213f6f2-0362-420a-dfe9-ccb7def5e751"
      },
      "outputs": [
        {
          "output_type": "stream",
          "name": "stdout",
          "text": [
            "13\n"
          ]
        },
        {
          "output_type": "display_data",
          "data": {
            "text/plain": [
              "<Figure size 640x480 with 1 Axes>"
            ],
            "image/png": "[encoded data removed]"
          },
          "metadata": {}
        }
      ],
      "source": [
        "nx.draw_networkx(G,node_size=40,  node_color=c, with_labels=False)\n",
        "print(len(mol)+1)"
      ]
    },
    {
      "cell_type": "code",
      "execution_count": null,
      "metadata": {
        "colab": {
          "base_uri": "https://localhost:8080/",
          "height": 513
        },
        "id": "EWrrzE_DqfdL",
        "outputId": "f391a2e4-a267-4932-8d46-3a2a98da875a"
      },
      "outputs": [
        {
          "output_type": "stream",
          "name": "stdout",
          "text": [
            "14\n"
          ]
        },
        {
          "output_type": "stream",
          "name": "stderr",
          "text": [
            "<ipython-input-203-00bf49c8f652>:7: DeprecationWarning: Conversion of an array with ndim > 0 to a scalar is deprecated, and will error in future. Ensure you extract a single element from your array before performing this operation. (Deprecated NumPy 1.25.)\n",
            "  x[j,i+1]=x_seq[i][t]\n",
            "<ipython-input-203-00bf49c8f652>:8: DeprecationWarning: Conversion of an array with ndim > 0 to a scalar is deprecated, and will error in future. Ensure you extract a single element from your array before performing this operation. (Deprecated NumPy 1.25.)\n",
            "  x[i+1,j]=x_seq[i][t]\n"
          ]
        },
        {
          "output_type": "display_data",
          "data": {
            "text/plain": [
              "<Figure size 640x480 with 1 Axes>"
            ],
            "image/png": "[encoded data removed]"
          },
          "metadata": {}
        }
      ],
      "source": [
        "\n",
        "mol=model([],training=False)\n",
        "mol_adj=mole_gen(mol)\n",
        "G=nx.from_numpy_array(mol_adj)\n",
        "c=[y for  (x,y) in list(G.degree())]\n",
        "nx.draw_networkx(G,node_size=40,  node_color=c, with_labels=False)\n",
        "print(len(mol)+1)"
      ]
    },
    {
      "cell_type": "code",
      "source": [
        "nx.draw_networkx(G,node_size=40,  node_color=c, with_labels=False)\n",
        "print(len(mol)+1)"
      ],
      "metadata": {
        "colab": {
          "base_uri": "https://localhost:8080/",
          "height": 423
        },
        "id": "MpBmtcqhzKB-",
        "outputId": "a41e2d3e-a3cf-4f7c-9517-e59cdf412bfd"
      },
      "execution_count": null,
      "outputs": [
        {
          "output_type": "stream",
          "name": "stdout",
          "text": [
            "13\n"
          ]
        },
        {
          "output_type": "display_data",
          "data": {
            "text/plain": [
              "<Figure size 640x480 with 1 Axes>"
            ],
            "image/png": "[encoded data removed]"
          },
          "metadata": {}
        }
      ]
    },
    {
      "cell_type": "code",
      "execution_count": null,
      "metadata": {
        "colab": {
          "base_uri": "https://localhost:8080/",
          "height": 513
        },
        "id": "XyBgUPvYq3vS",
        "outputId": "85af70e9-c4b5-4712-ada3-f3450d4d19e2"
      },
      "outputs": [
        {
          "output_type": "stream",
          "name": "stdout",
          "text": [
            "13\n"
          ]
        },
        {
          "output_type": "stream",
          "name": "stderr",
          "text": [
            "<ipython-input-203-00bf49c8f652>:7: DeprecationWarning: Conversion of an array with ndim > 0 to a scalar is deprecated, and will error in future. Ensure you extract a single element from your array before performing this operation. (Deprecated NumPy 1.25.)\n",
            "  x[j,i+1]=x_seq[i][t]\n",
            "<ipython-input-203-00bf49c8f652>:8: DeprecationWarning: Conversion of an array with ndim > 0 to a scalar is deprecated, and will error in future. Ensure you extract a single element from your array before performing this operation. (Deprecated NumPy 1.25.)\n",
            "  x[i+1,j]=x_seq[i][t]\n"
          ]
        },
        {
          "output_type": "display_data",
          "data": {
            "text/plain": [
              "<Figure size 640x480 with 1 Axes>"
            ],
            "image/png": "[encoded data removed]"
          },
          "metadata": {}
        }
      ],
      "source": [
        "mol=model([],False)\n",
        "mol_adj=mole_gen(mol)\n",
        "G=nx.from_numpy_array(mol_adj)\n",
        "c=[y for  (x,y) in list(G.degree())]\n",
        "nx.draw_networkx(G,node_size=40,  node_color=c, with_labels=False)\n",
        "print(len(mol)+1)"
      ]
    },
    {
      "cell_type": "code",
      "execution_count": null,
      "metadata": {
        "colab": {
          "base_uri": "https://localhost:8080/",
          "height": 513
        },
        "id": "B-Hj8rN3q5yM",
        "outputId": "00b55611-dfb9-4433-c055-85693db934ab"
      },
      "outputs": [
        {
          "output_type": "stream",
          "name": "stdout",
          "text": [
            "13\n"
          ]
        },
        {
          "output_type": "stream",
          "name": "stderr",
          "text": [
            "<ipython-input-203-00bf49c8f652>:7: DeprecationWarning: Conversion of an array with ndim > 0 to a scalar is deprecated, and will error in future. Ensure you extract a single element from your array before performing this operation. (Deprecated NumPy 1.25.)\n",
            "  x[j,i+1]=x_seq[i][t]\n",
            "<ipython-input-203-00bf49c8f652>:8: DeprecationWarning: Conversion of an array with ndim > 0 to a scalar is deprecated, and will error in future. Ensure you extract a single element from your array before performing this operation. (Deprecated NumPy 1.25.)\n",
            "  x[i+1,j]=x_seq[i][t]\n"
          ]
        },
        {
          "output_type": "display_data",
          "data": {
            "text/plain": [
              "<Figure size 640x480 with 1 Axes>"
            ],
            "image/png": "[encoded data removed]"
          },
          "metadata": {}
        }
      ],
      "source": [
        "mol=model([],False)\n",
        "mol_adj=mole_gen(mol)\n",
        "G=nx.from_numpy_array(mol_adj)\n",
        "c=[y for  (x,y) in list(G.degree())]\n",
        "nx.draw_networkx(G,node_size=40,  node_color=c, with_labels=False)\n",
        "print(len(mol)+1)"
      ]
    },
    {
      "cell_type": "code",
      "execution_count": null,
      "metadata": {
        "colab": {
          "base_uri": "https://localhost:8080/",
          "height": 423
        },
        "id": "jkxqkAVzLTDz",
        "outputId": "7c0828b3-95d3-4fd3-f870-fe604277b68a"
      },
      "outputs": [
        {
          "output_type": "stream",
          "name": "stdout",
          "text": [
            "13\n"
          ]
        },
        {
          "output_type": "display_data",
          "data": {
            "text/plain": [
              "<Figure size 640x480 with 1 Axes>"
            ],
            "image/png": "[encoded data removed]"
          },
          "metadata": {}
        }
      ],
      "source": [
        "nx.draw_networkx(G,node_size=40,  node_color=c, with_labels=False)\n",
        "print(len(mol)+1)"
      ]
    },
    {
      "cell_type": "code",
      "execution_count": null,
      "metadata": {
        "colab": {
          "base_uri": "https://localhost:8080/",
          "height": 513
        },
        "id": "5AFYoJCQrDp2",
        "outputId": "b5c587cb-6c25-44b5-86f8-897ea64b4f33"
      },
      "outputs": [
        {
          "output_type": "stream",
          "name": "stdout",
          "text": [
            "13\n"
          ]
        },
        {
          "output_type": "stream",
          "name": "stderr",
          "text": [
            "<ipython-input-203-00bf49c8f652>:7: DeprecationWarning: Conversion of an array with ndim > 0 to a scalar is deprecated, and will error in future. Ensure you extract a single element from your array before performing this operation. (Deprecated NumPy 1.25.)\n",
            "  x[j,i+1]=x_seq[i][t]\n",
            "<ipython-input-203-00bf49c8f652>:8: DeprecationWarning: Conversion of an array with ndim > 0 to a scalar is deprecated, and will error in future. Ensure you extract a single element from your array before performing this operation. (Deprecated NumPy 1.25.)\n",
            "  x[i+1,j]=x_seq[i][t]\n"
          ]
        },
        {
          "output_type": "display_data",
          "data": {
            "text/plain": [
              "<Figure size 640x480 with 1 Axes>"
            ],
            "image/png": "[encoded data removed]"
          },
          "metadata": {}
        }
      ],
      "source": [
        "mol=model([],False)\n",
        "mol_adj=mole_gen(mol)\n",
        "G=nx.from_numpy_array(mol_adj)\n",
        "c=[y for  (x,y) in list(G.degree())]\n",
        "nx.draw_networkx(G,node_size=40,  node_color=c, with_labels=False)\n",
        "print(len(mol)+1)"
      ]
    },
    {
      "cell_type": "code",
      "execution_count": null,
      "metadata": {
        "colab": {
          "base_uri": "https://localhost:8080/",
          "height": 513
        },
        "id": "l3p-vu9_rPRK",
        "outputId": "217da62c-d5cf-4d4c-e44d-78a875b186ab"
      },
      "outputs": [
        {
          "output_type": "stream",
          "name": "stdout",
          "text": [
            "13\n"
          ]
        },
        {
          "output_type": "stream",
          "name": "stderr",
          "text": [
            "<ipython-input-203-00bf49c8f652>:7: DeprecationWarning: Conversion of an array with ndim > 0 to a scalar is deprecated, and will error in future. Ensure you extract a single element from your array before performing this operation. (Deprecated NumPy 1.25.)\n",
            "  x[j,i+1]=x_seq[i][t]\n",
            "<ipython-input-203-00bf49c8f652>:8: DeprecationWarning: Conversion of an array with ndim > 0 to a scalar is deprecated, and will error in future. Ensure you extract a single element from your array before performing this operation. (Deprecated NumPy 1.25.)\n",
            "  x[i+1,j]=x_seq[i][t]\n"
          ]
        },
        {
          "output_type": "display_data",
          "data": {
            "text/plain": [
              "<Figure size 640x480 with 1 Axes>"
            ],
            "image/png": "[encoded data removed]"
          },
          "metadata": {}
        }
      ],
      "source": [
        "mol=model([],False)\n",
        "mol_adj=mole_gen(mol)\n",
        "G=nx.from_numpy_array(mol_adj)\n",
        "c=[y for  (x,y) in list(G.degree())]\n",
        "nx.draw_networkx(G,node_size=40,  node_color=c, with_labels=False)\n",
        "print(len(mol)+1)"
      ]
    },
    {
      "cell_type": "code",
      "execution_count": null,
      "metadata": {
        "colab": {
          "base_uri": "https://localhost:8080/",
          "height": 423
        },
        "id": "5QjIlrSiLkjS",
        "outputId": "74bcbabb-334f-4846-da5f-a0ba08868211"
      },
      "outputs": [
        {
          "output_type": "stream",
          "name": "stdout",
          "text": [
            "13\n"
          ]
        },
        {
          "output_type": "display_data",
          "data": {
            "text/plain": [
              "<Figure size 640x480 with 1 Axes>"
            ],
            "image/png": "[encoded data removed]"
          },
          "metadata": {}
        }
      ],
      "source": [
        "nx.draw_networkx(G,node_size=40,  node_color=c, with_labels=False)\n",
        "print(len(mol)+1)"
      ]
    },
    {
      "cell_type": "code",
      "execution_count": null,
      "metadata": {
        "colab": {
          "base_uri": "https://localhost:8080/",
          "height": 513
        },
        "id": "d7106jchr1yc",
        "outputId": "324c56a0-ce6a-437e-e58f-2c40fbb309d1"
      },
      "outputs": [
        {
          "output_type": "stream",
          "name": "stdout",
          "text": [
            "14\n"
          ]
        },
        {
          "output_type": "stream",
          "name": "stderr",
          "text": [
            "<ipython-input-203-00bf49c8f652>:7: DeprecationWarning: Conversion of an array with ndim > 0 to a scalar is deprecated, and will error in future. Ensure you extract a single element from your array before performing this operation. (Deprecated NumPy 1.25.)\n",
            "  x[j,i+1]=x_seq[i][t]\n",
            "<ipython-input-203-00bf49c8f652>:8: DeprecationWarning: Conversion of an array with ndim > 0 to a scalar is deprecated, and will error in future. Ensure you extract a single element from your array before performing this operation. (Deprecated NumPy 1.25.)\n",
            "  x[i+1,j]=x_seq[i][t]\n"
          ]
        },
        {
          "output_type": "display_data",
          "data": {
            "text/plain": [
              "<Figure size 640x480 with 1 Axes>"
            ],
            "image/png": "[encoded data removed]"
          },
          "metadata": {}
        }
      ],
      "source": [
        "mol=model([],False)\n",
        "mol_adj=mole_gen(mol)\n",
        "G=nx.from_numpy_array(mol_adj)\n",
        "c=[y for  (x,y) in list(G.degree())]\n",
        "nx.draw_networkx(G,node_size=40,  node_color=c, with_labels=False)\n",
        "print(len(mol)+1)"
      ]
    },
    {
      "cell_type": "code",
      "source": [
        "nx.draw_networkx(G,node_size=40,  node_color=c, with_labels=False)\n",
        "print(len(mol)+1)"
      ],
      "metadata": {
        "colab": {
          "base_uri": "https://localhost:8080/",
          "height": 423
        },
        "id": "7ZiSaXc47o-8",
        "outputId": "095b192f-e535-4584-8f0e-2711a79388c6"
      },
      "execution_count": null,
      "outputs": [
        {
          "output_type": "stream",
          "name": "stdout",
          "text": [
            "14\n"
          ]
        },
        {
          "output_type": "display_data",
          "data": {
            "text/plain": [
              "<Figure size 640x480 with 1 Axes>"
            ],
            "image/png": "[encoded data removed]"
          },
          "metadata": {}
        }
      ]
    },
    {
      "cell_type": "code",
      "execution_count": null,
      "metadata": {
        "colab": {
          "base_uri": "https://localhost:8080/",
          "height": 513
        },
        "id": "sA1lIkJ0r8WY",
        "outputId": "a4993d01-d95f-419e-9e3b-04f6fddb707c"
      },
      "outputs": [
        {
          "output_type": "stream",
          "name": "stdout",
          "text": [
            "13\n"
          ]
        },
        {
          "output_type": "stream",
          "name": "stderr",
          "text": [
            "<ipython-input-203-00bf49c8f652>:7: DeprecationWarning: Conversion of an array with ndim > 0 to a scalar is deprecated, and will error in future. Ensure you extract a single element from your array before performing this operation. (Deprecated NumPy 1.25.)\n",
            "  x[j,i+1]=x_seq[i][t]\n",
            "<ipython-input-203-00bf49c8f652>:8: DeprecationWarning: Conversion of an array with ndim > 0 to a scalar is deprecated, and will error in future. Ensure you extract a single element from your array before performing this operation. (Deprecated NumPy 1.25.)\n",
            "  x[i+1,j]=x_seq[i][t]\n"
          ]
        },
        {
          "output_type": "display_data",
          "data": {
            "text/plain": [
              "<Figure size 640x480 with 1 Axes>"
            ],
            "image/png": "[encoded data removed]"
          },
          "metadata": {}
        }
      ],
      "source": [
        "mol=model([],False)\n",
        "mol_adj=mole_gen(mol)\n",
        "G=nx.from_numpy_array(mol_adj)\n",
        "c=[y for  (x,y) in list(G.degree())]\n",
        "nx.draw_networkx(G,node_size=40,  node_color=c, with_labels=False)\n",
        "print(len(mol)+1)"
      ]
    },
    {
      "cell_type": "code",
      "execution_count": null,
      "metadata": {
        "colab": {
          "base_uri": "https://localhost:8080/",
          "height": 513
        },
        "id": "XGJxLfgTsf9r",
        "outputId": "6e90f8fc-c7a1-4ebf-beef-82664da6415a"
      },
      "outputs": [
        {
          "output_type": "stream",
          "name": "stdout",
          "text": [
            "13\n"
          ]
        },
        {
          "output_type": "stream",
          "name": "stderr",
          "text": [
            "<ipython-input-203-00bf49c8f652>:7: DeprecationWarning: Conversion of an array with ndim > 0 to a scalar is deprecated, and will error in future. Ensure you extract a single element from your array before performing this operation. (Deprecated NumPy 1.25.)\n",
            "  x[j,i+1]=x_seq[i][t]\n",
            "<ipython-input-203-00bf49c8f652>:8: DeprecationWarning: Conversion of an array with ndim > 0 to a scalar is deprecated, and will error in future. Ensure you extract a single element from your array before performing this operation. (Deprecated NumPy 1.25.)\n",
            "  x[i+1,j]=x_seq[i][t]\n"
          ]
        },
        {
          "output_type": "display_data",
          "data": {
            "text/plain": [
              "<Figure size 640x480 with 1 Axes>"
            ],
            "image/png": "[encoded data removed]"
          },
          "metadata": {}
        }
      ],
      "source": [
        "mol=model([],False)\n",
        "mol_adj=mole_gen(mol)\n",
        "G=nx.from_numpy_array(mol_adj)\n",
        "c=[y for  (x,y) in list(G.degree())]\n",
        "nx.draw_networkx(G,node_size=40,  node_color=c, with_labels=False)\n",
        "print(len(mol)+1)"
      ]
    }
  ],
  "metadata": {
    "accelerator": "TPU",
    "colab": {
      "gpuType": "V28",
      "provenance": []
    },
    "kernelspec": {
      "display_name": "Python 3",
      "name": "python3"
    },
    "language_info": {
      "name": "python"
    }
  },
  "nbformat": 4,
  "nbformat_minor": 0
}